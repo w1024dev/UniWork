{
 "cells": [
  {
   "cell_type": "code",
   "execution_count": null,
   "id": "23f7a9fe",
   "metadata": {},
   "outputs": [],
   "source": [
    "# Вывод числа в научной нотации\n",
    "def output(x):\n",
    "    print('{:.2E}'.format(x))\n",
    "    return"
   ]
  },
  {
   "cell_type": "markdown",
   "id": "98ddacd4",
   "metadata": {},
   "source": [
    "## Задание 1"
   ]
  },
  {
   "cell_type": "code",
   "execution_count": 11,
   "id": "ca78846e",
   "metadata": {},
   "outputs": [
    {
     "name": "stdout",
     "output_type": "stream",
     "text": [
      "3.63E+03\n",
      "1.77E+03\n",
      "8.64E+04\n",
      "3.31E+03\n",
      "2.07E+05\n"
     ]
    }
   ],
   "source": [
    "def output(x):\n",
    "    print('{:.2E}'.format(x))\n",
    "    return\n",
    "\n",
    "\n",
    "import math\n",
    "\n",
    "def main(z, x):\n",
    "    return math.sqrt((61*z**3+82*z**2)**5 - x**6/14) - (83*(19*z - 95*x**3) - 78)\n",
    "\n",
    "output(main(-0.86, -0.17))\n",
    "output(main(-0.42, 0.45))\n",
    "output(main(0.84, 0.63))\n",
    "output(main(-0.97, -0.38))\n",
    "output(main(0.98, -1.0))"
   ]
  },
  {
   "cell_type": "markdown",
   "id": "ead04b85",
   "metadata": {},
   "source": [
    "## Задание 2"
   ]
  },
  {
   "cell_type": "code",
   "execution_count": 12,
   "id": "735c25ef",
   "metadata": {},
   "outputs": [
    {
     "name": "stdout",
     "output_type": "stream",
     "text": [
      "9.47E+09\n",
      "-6.97E+16\n",
      "-9.74E+01\n",
      "-2.43E+15\n",
      "1.84E+09\n"
     ]
    }
   ],
   "source": [
    "def output(x):\n",
    "    print('{:.2E}'.format(x))\n",
    "    return\n",
    "\n",
    "\n",
    "import math\n",
    "\n",
    "def main(y):\n",
    "    if y < 2:\n",
    "        return y**6\n",
    "    elif y < 14:\n",
    "        return 91*y**7 - 1 - 53*y**6\n",
    "    elif y < 39:\n",
    "        return 99*math.sin(y**3)\n",
    "    elif y < 57:\n",
    "        return 20*y**8 + 28\n",
    "    else:\n",
    "        return 1 - 4*(66*y**3 + 1)**2 - 24*math.tan(y)**5\n",
    "\n",
    "output(main(-46))\n",
    "output(main(126))\n",
    "output(main(14))\n",
    "output(main(72))\n",
    "output(main(-35))"
   ]
  },
  {
   "cell_type": "markdown",
   "id": "6e3700dd",
   "metadata": {},
   "source": [
    "## Задание 3"
   ]
  },
  {
   "cell_type": "code",
   "execution_count": 13,
   "id": "3240eeb5",
   "metadata": {},
   "outputs": [
    {
     "name": "stdout",
     "output_type": "stream",
     "text": [
      "-5.63E+09\n",
      "-2.01E+09\n",
      "-9.74E+06\n",
      "-1.01E+09\n",
      "-1.62E+08\n"
     ]
    }
   ],
   "source": [
    "def output(x):\n",
    "    print('{:.2E}'.format(x))\n",
    "    return\n",
    "\n",
    "\n",
    "def main(a, b, m, x):\n",
    "    result = 0\n",
    "    for j in range(1, m + 1):\n",
    "        for c in range(1, b + 1):\n",
    "            for i in range (1, a + 1):\n",
    "                result += (80*j**2 + 61*x + 46*i**3)/19 - 7*(8*c)**4\n",
    "    return result\n",
    "\n",
    "output(main(7, 7, 6, 0.98))\n",
    "output(main(3, 7, 5, 0.82))\n",
    "output(main(5, 2, 4, -0.27))\n",
    "output(main(6, 5, 6, -0.35))\n",
    "output(main(4, 4, 4, -0.53))"
   ]
  },
  {
   "cell_type": "markdown",
   "id": "5ce5cfcb",
   "metadata": {},
   "source": [
    "## Задание 4"
   ]
  },
  {
   "cell_type": "code",
   "execution_count": 14,
   "id": "93521303",
   "metadata": {},
   "outputs": [
    {
     "name": "stdout",
     "output_type": "stream",
     "text": [
      "1.48E+00\n",
      "7.76E-01\n",
      "-8.31E-01\n",
      "2.94E-01\n",
      "9.12E-01\n"
     ]
    }
   ],
   "source": [
    "def output(x):\n",
    "    print('{:.2E}'.format(x))\n",
    "    return\n",
    "\n",
    "\n",
    "import math\n",
    "\n",
    "def main(n):\n",
    "    if n == 0:\n",
    "        return -0.67\n",
    "    elif n == 1:\n",
    "        return 0.12\n",
    "    elif n >= 2:\n",
    "        return math.atan(main(n-1))**3 - (main(n-1) - 83 - 6*main(n-2)**2)/72 - main(n-2)**2\n",
    "    \n",
    "output(main(4))\n",
    "output(main(8))\n",
    "output(main(6))\n",
    "output(main(5))\n",
    "output(main(9))"
   ]
  },
  {
   "cell_type": "markdown",
   "id": "83383ceb",
   "metadata": {},
   "source": [
    "## Задание 5"
   ]
  },
  {
   "cell_type": "code",
   "execution_count": 2,
   "id": "28c803e9",
   "metadata": {},
   "outputs": [
    {
     "name": "stdout",
     "output_type": "stream",
     "text": [
      "-7.63E+05\n",
      "-4.99E+06\n",
      "-1.63E+06\n",
      "4.96E+06\n",
      "-6.27E+06\n"
     ]
    }
   ],
   "source": [
    "def output(x):\n",
    "    print('{:.2E}'.format(x))\n",
    "    return\n",
    "\n",
    "\n",
    "import math\n",
    "\n",
    "def main(z, x):\n",
    "    n = len(z)\n",
    "    result = 0\n",
    "    for i in range (1, n+1):\n",
    "        result += 87*(x[n + 1 - math.ceil(i/4) - 1]**2 - x[math.ceil(i/3) - 1]**3 - 41*z[i-1])**3\n",
    "    return result\n",
    "\n",
    "output(main(\n",
    "[0.62, 0.65, 0.3, -0.1, -0.85, -0.49, 0.79, -0.43],\n",
    "[0.83, -0.69, 0.52, 0.81, -0.28, -0.99, 0.69, 0.85]))\n",
    "output(main(\n",
    "[-0.2, 0.97, 0.25, 0.76, -0.7, -0.43, -0.55, 0.5],\n",
    "[0.87, 0.0, 0.39, 0.43, -0.88, 0.46, 0.76, -0.77]))\n",
    "output(main(\n",
    "[-0.67, 0.24, -0.27, 0.59, 0.27, 0.37, 0.7, -0.14],\n",
    "[-0.55, 0.47, -0.37, -0.36, 0.61, -0.67, 0.27, -0.13]))\n",
    "output(main(\n",
    "[-0.75, 0.82, -0.62, -0.19, -0.84, 0.19, -0.29, -0.53],\n",
    "[-0.77, 0.44, -0.45, -0.35, -0.84, -0.07, 0.4, 0.99]))\n",
    "output(main(\n",
    "[0.32, 0.12, 0.89, 0.73, -0.37, 0.88, -0.84, -0.43],\n",
    "[0.85, -0.99, 0.69, -0.0, 0.16, 0.01, 0.02, -0.53]))"
   ]
  },
  {
   "cell_type": "markdown",
   "id": "729a2806",
   "metadata": {},
   "source": [
    "## Задание 6"
   ]
  },
  {
   "cell_type": "code",
   "execution_count": 48,
   "id": "3356ee32",
   "metadata": {},
   "outputs": [
    {
     "name": "stdout",
     "output_type": "stream",
     "text": [
      "1062\n",
      "-490\n"
     ]
    }
   ],
   "source": [
    "def output(x):\n",
    "    print('{:.2E}'.format(x))\n",
    "    return\n",
    "\n",
    "\n",
    "import math\n",
    "\n",
    "def main(W):\n",
    "    N = {abs(n) - 6*n for n in W if n <= 84}\n",
    "    Y = {v%3 - v for v in N if v < 64}\n",
    "    O = W.union(N)\n",
    "    OxY = {(q, u) for q in O for u in Y}\n",
    "    i = len(O.union(Y)) + sum(math.ceil(elem[0]/6) - elem[1]%2 for elem in OxY)\n",
    "    return i\n",
    "\n",
    "print(main({-61, -60, -59, -58, -35, 93, -9, 24, 27, -3}))\n",
    "print(main({-63, 69, -89, 39, 79, -17, 81, 80, 84, -33}))"
   ]
  },
  {
   "cell_type": "markdown",
   "id": "57a96183",
   "metadata": {},
   "source": [
    "## Задание 7"
   ]
  },
  {
   "cell_type": "code",
   "execution_count": 55,
   "id": "692e43d0",
   "metadata": {},
   "outputs": [
    {
     "name": "stdout",
     "output_type": "stream",
     "text": [
      "14\n",
      "15\n",
      "12\n",
      "3\n",
      "5\n"
     ]
    }
   ],
   "source": [
    "def x0(x, left, mid, right):\n",
    "    if x[0] == \"TWIG\":\n",
    "        return right\n",
    "    elif x[0] == \"EBNF\":\n",
    "        return mid\n",
    "    elif x[0] == \"OPAL\":\n",
    "        return left\n",
    "    \n",
    "def x1(x, left, mid, right):\n",
    "    if x[1] == \"NUMPY\":\n",
    "        return right\n",
    "    elif x[1] == \"SMALI\":\n",
    "        return mid\n",
    "    elif x[1] == \"GN\":\n",
    "        return left\n",
    "\n",
    "\n",
    "def x2(x, left, mid, right):\n",
    "    if x[2] == 2019:\n",
    "        return right\n",
    "    elif x[2] == 2000:\n",
    "        return mid\n",
    "    elif x[2] == 1994:\n",
    "        return left\n",
    "\n",
    "\n",
    "def x3(x, left, right):\n",
    "    if x[3] == \"TCL\":\n",
    "        return right\n",
    "    elif x[3] == \"AWK\":\n",
    "        return left\n",
    "\n",
    "\n",
    "def x4(x, left, mid, right):\n",
    "    if x[4] == \"SHELL\":\n",
    "        return right\n",
    "    elif x[4] == \"PIKE\":\n",
    "        return mid\n",
    "    elif x[4] == \"HLSL\":\n",
    "        return left\n",
    "\n",
    "\n",
    "def main(x):\n",
    "    return x1(x, 15, 14, x4(\n",
    "        x, x2(x, 13, 12, x0(x, 11, 10, 9)), 8, x2(\n",
    "            x, x0(x, 7, 6, 5), x0(x, 4, 3, 2), x3(x, 1, 0))))\n",
    "\n",
    "print(main(['OPAL', 'SMALI', 2019, 'AWK', 'HLSL']))# = 14\n",
    "print(main(['OPAL', 'GN', 2019, 'TCL', 'HLSL']))# = 15\n",
    "print(main(['OPAL', 'NUMPY', 2000, 'AWK', 'HLSL']))# = 12\n",
    "print(main(['EBNF', 'NUMPY', 2000, 'TCL', 'SHELL']))# = 3\n",
    "print(main(['TWIG', 'NUMPY', 1994, 'AWK', 'SHELL']))# = 5"
   ]
  },
  {
   "cell_type": "markdown",
   "id": "8bd9e2f5",
   "metadata": {},
   "source": [
    "## Задание 8"
   ]
  },
  {
   "cell_type": "code",
   "execution_count": 76,
   "id": "3ad0e0f0",
   "metadata": {},
   "outputs": [
    {
     "name": "stdout",
     "output_type": "stream",
     "text": [
      "0xf84ee244\n",
      "0xf3316c17\n",
      "0x9740ae98\n",
      "0x14cdcbc4\n"
     ]
    }
   ],
   "source": [
    "def main(x):\n",
    "    s1 = x & 0b00000000000000000000000011111111\n",
    "    s2 = (x & 0b00000000000000000000111100000000) >> 8\n",
    "    s3 = (x & 0b00000000000011111111000000000000) >> 12\n",
    "    s4 = (x & 0b00000000111100000000000000000000) >> 20\n",
    "    s5 = (x & 0b11111111000000000000000000000000) >> 24\n",
    "    y = 0\n",
    "    y = y | s1\n",
    "    y = y | (s2*2**24)\n",
    "    y = y | (s3*2**16)\n",
    "    y = y | (s4*2**28)\n",
    "    y = y | (s5*2**8)\n",
    "    return hex(y)\n",
    "\n",
    "print(main(3807701060))\n",
    "print(main(1827869463))\n",
    "print(main(2928936856))\n",
    "print(main(3407664324))"
   ]
  },
  {
   "cell_type": "markdown",
   "id": "327e0b65",
   "metadata": {},
   "source": [
    "## Задание 9"
   ]
  },
  {
   "cell_type": "code",
   "execution_count": 22,
   "id": "5fb56be0",
   "metadata": {},
   "outputs": [
    {
     "name": "stdout",
     "output_type": "stream",
     "text": [
      "[('enat', 'isar'), ('veenus', 'teenxe'), ('gerear', 'beisve_783')]\n",
      "[('dixe', 'rabe_393'), ('inusre', 'anrige_240')]\n"
     ]
    }
   ],
   "source": [
    "import re\n",
    "\n",
    "def main(x):\n",
    "    matches = re.findall(r\"([a-z_0-9]*) to ([a-z_0-9]*)\", x)\n",
    "    return [(i[1], i[0]) for i in matches]\n",
    "\n",
    "print(main(\"<: (( isar to enat; )).(( teenxe to veenus; )). ((beisve_783 to gerear;)). :>\"))\n",
    "print(main(\"<: (( rabe_393 to dixe; )). (( anrige_240 to inusre;)). :>\"))\n",
    "#[('enat', 'isar'), ('veenus', 'teenxe'), ('gerear', 'beisve_783')]\n",
    "#[('dixe', 'rabe_393'), ('inusre', 'anrige_240')]"
   ]
  },
  {
   "cell_type": "markdown",
   "id": "87c78204",
   "metadata": {},
   "source": [
    "## Задание 10"
   ]
  },
  {
   "cell_type": "code",
   "execution_count": 65,
   "id": "c9301349",
   "metadata": {},
   "outputs": [
    {
     "name": "stdout",
     "output_type": "stream",
     "text": [
      "['Савелий Л. Тибудли', '2001/10/07', 'N', 'N']\n",
      "['Ян Т. Митук', '2004/11/08', 'Y', 'Y']\n",
      "['Игорь У. Медацянц', '2000/09/09', 'Y', 'Y']\n",
      "['Николай У. Цабский', '1999/05/26', 'N', 'N']\n",
      "\n",
      "['Савелий Тибудли', 'Ян Митук', 'Игорь Медацянц', 'Николай Цабский']\n",
      "['07.10.01', '08.11.04', '09.09.00', '26.05.99']\n",
      "['Нет', 'Да', 'Да', 'Нет']\n",
      "\n"
     ]
    },
    {
     "data": {
      "text/plain": [
       "[['Савелий Тибудли', 'Ян Митук', 'Игорь Медацянц', 'Николай Цабский'],\n",
       " ['07.10.01', '08.11.04', '09.09.00', '26.05.99'],\n",
       " ['Нет', 'Да', 'Да', 'Нет']]"
      ]
     },
     "execution_count": 65,
     "metadata": {},
     "output_type": "execute_result"
    }
   ],
   "source": [
    "def output_table(table):\n",
    "    for e in table: print(e)\n",
    "    print()\n",
    "    return\n",
    "\n",
    "def main(table):\n",
    "    table = filter(len, map(lambda row: list(filter(bool, row)), table))    \n",
    "    seen = set()\n",
    "    table = [tuple(row) for row in table if tuple(row) not in seen and not seen.add(tuple(row))]\n",
    "    table = [list(e) for e in table]\n",
    "    output_table(table)\n",
    "    \n",
    "    table = [[name.split()[0] + ' ' + name.split()[2], \n",
    "              '.'.join(part[-2:] for part in date.split('/')[::-1]),\n",
    "              switch1.replace('N', 'Нет').replace('Y','Да'), \n",
    "              switch2.replace('N', 'Нет').replace('Y','Да'),]\n",
    "             for name, date, switch1, switch2 in table]\n",
    "    table = map(list, zip(*table))\n",
    "    table = [tuple(row) for row in table if tuple(row) not in seen and not seen.add(tuple(row))]\n",
    "    table = [list(e) for e in table]\n",
    "    return list(table)\n",
    "\n",
    "main([['Савелий Л. Тибудли', '2001/10/07', 'N', 'N'],\n",
    "      ['Ян Т. Митук', '2004/11/08', 'Y', 'Y'],\n",
    "      ['Игорь У. Медацянц', '2000/09/09', 'Y', 'Y'],\n",
    "      ['Николай У. Цабский', '1999/05/26', 'N', 'N'],\n",
    "      ['Ян Т. Митук', '2004/11/08', 'Y', 'Y']])"
   ]
  },
  {
   "cell_type": "markdown",
   "id": "07318aa7",
   "metadata": {},
   "source": [
    "## Задание 11"
   ]
  },
  {
   "cell_type": "code",
   "execution_count": 1,
   "id": "26f7349f",
   "metadata": {},
   "outputs": [],
   "source": [
    "class MealyError(Exception):\n",
    "    pass\n",
    "\n",
    "\n",
    "class StateMachine:\n",
    "    def __init__(self):\n",
    "        self.state = 'A'\n",
    "\n",
    "    def close(self):\n",
    "        if self.state == 'A':\n",
    "            self.state = 'B'\n",
    "            return 0\n",
    "        if self.state == 'B':\n",
    "            self.state = 'E'\n",
    "            return 2\n",
    "        if self.state == 'C':\n",
    "            self.state = 'H'\n",
    "            return 4\n",
    "        if self.state == 'E':\n",
    "            self.state = 'H'\n",
    "            return 7\n",
    "        if self.state == 'F':\n",
    "            self.state = 'C'\n",
    "            return 9\n",
    "        if self.state == 'G':\n",
    "            self.state = 'H'\n",
    "            return 10\n",
    "        raise MealyError('close')\n",
    "\n",
    "    def turn(self):\n",
    "        if self.state == 'B':\n",
    "            self.state = 'C'\n",
    "            return 1\n",
    "        if self.state == 'C':\n",
    "            self.state = 'D'\n",
    "            return 3\n",
    "        if self.state == 'D':\n",
    "            self.state = 'E'\n",
    "            return 5\n",
    "        if self.state == 'E':\n",
    "            self.state = 'F'\n",
    "            return 6\n",
    "        if self.state == 'F':\n",
    "            self.state = 'G'\n",
    "            return 8\n",
    "        if self.state == 'G':\n",
    "            self.state = 'A'\n",
    "            return 11\n",
    "        raise MealyError('turn')\n",
    "\n",
    "\n",
    "def main():\n",
    "    return StateMachine()\n",
    "\n",
    "\n",
    "def raises(function, error):\n",
    "    output = None\n",
    "    try:\n",
    "        output = function()\n",
    "    except Exception as e:\n",
    "        assert type(e) == error\n",
    "    assert output is None\n",
    "    \n",
    "def test():\n",
    "    o = main()\n",
    "    assert o.close() == 0\n",
    "    assert o.close() == 2\n",
    "    assert o.close() == 7\n",
    "    raises(lambda: o.close(), MealyError)\n",
    "    raises(lambda: o.turn(), MealyError)\n",
    "    o = main()\n",
    "    assert o.close() == 0\n",
    "    assert o.turn() == 1\n",
    "    assert o.turn() == 3\n",
    "    assert o.turn() == 5\n",
    "    assert o.turn() == 6\n",
    "    assert o.turn() == 8\n",
    "    assert o.close() == 10\n",
    "    o.state = 'F'\n",
    "    assert o.close() == 9\n",
    "    assert o.close() == 4\n",
    "    o.state = 'G'\n",
    "    assert o.turn() == 11\n"
   ]
  },
  {
   "cell_type": "markdown",
   "id": "a37275c9",
   "metadata": {},
   "source": [
    "## Задание 12"
   ]
  },
  {
   "cell_type": "code",
   "execution_count": 19,
   "id": "e851abcb",
   "metadata": {
    "scrolled": true
   },
   "outputs": [
    {
     "name": "stdout",
     "output_type": "stream",
     "text": [
      "{'A1': {'B1': 1169802170, 'B2': 5330, 'B3': 0.51768461241848, 'B4': 'jego', 'B5': [{'C1': 1474557488, 'C2': 10}, {'C1': 2733765711, 'C2': -40}]}, 'A2': 'va', 'A3': {'D1': -1350982335675424101, 'D2': -29439, 'D3': -977458964464369126, 'D4': [75, 162]}}\n",
      "\n",
      "{'A1': {'B1': 1052933750, 'B2': 16313, 'B3': -0.15837481080919624, 'B4': 'akfhb', 'B5': [{'C1': 3617457974, 'C2': 55}, {'C1': 3805344072, 'C2': -51}, {'C1': 2300792604, 'C2': -3}]}, 'A2': 'xvg', 'A3': {'D1': 5459161347574949299, 'D2': 25528, 'D3': -2516976097203366704, 'D4': [40, 240, 21]}}\n"
     ]
    }
   ],
   "source": [
    "from struct import *\n",
    "\n",
    "\n",
    "FMT = dict(\n",
    "    char='c',\n",
    "    int8='b',\n",
    "    uint8='B',\n",
    "    int16='h',\n",
    "    uint16='H',\n",
    "    int32='i',\n",
    "    uint32='I',\n",
    "    int64='q',\n",
    "    uint64='Q',\n",
    "    float='f',\n",
    "    double='d'\n",
    ")\n",
    "\n",
    "\n",
    "def parse(buf, offs, ty, order='>'):\n",
    "    pattern = FMT[ty]\n",
    "    size = calcsize(pattern)\n",
    "    res = unpack_from(order + pattern, buf, offs)[0]\n",
    "    return res, offs + size\n",
    "    \n",
    "\n",
    "def parse_d(buf, offs):\n",
    "    d1, offs = parse(buf, offs, 'int64')\n",
    "    d2, offs = parse(buf, offs, 'int16')\n",
    "    d3, offs = parse(buf, offs, 'int64')\n",
    "    d4_size, offs = parse(buf, offs, 'uint16')\n",
    "    d4_offs, offs = parse(buf, offs, 'uint16')\n",
    "    d4 = []\n",
    "    for _ in range(d4_size):\n",
    "        value, d4_offs = parse(buf, d4_offs, 'uint8')\n",
    "        d4.append(value)\n",
    "    return dict(D1=d1, D2=d2, D3=d3, D4=d4), offs\n",
    "    \n",
    "\n",
    "def parse_c(buf, offs):\n",
    "    c1, offs = parse(buf, offs, 'uint32')\n",
    "    c2, offs = parse(buf, offs, 'int8')\n",
    "    return dict(C1=c1, C2=c2), offs\n",
    "\n",
    "\n",
    "def parse_b(buf, offs):\n",
    "    b1, offs = parse(buf, offs, 'int32')\n",
    "    b2, offs = parse(buf, offs, 'uint16')\n",
    "    b3, offs = parse(buf, offs, 'double')\n",
    "    \n",
    "    b4_size, offs = parse(buf, offs, 'uint32')\n",
    "    b4_offs, offs = parse(buf, offs, 'uint16')\n",
    "    b4 = ''\n",
    "    for _ in range(b4_size):\n",
    "        value, b4_offs = parse(buf, b4_offs, 'char')\n",
    "        b4 += value.decode('utf-8')\n",
    "        \n",
    "    b5_size, offs = parse(buf, offs, 'uint16')\n",
    "    b5_offs, offs = parse(buf, offs, 'uint16')\n",
    "    b5 = []\n",
    "    for _ in range(b5_size):\n",
    "        b5_c_offs, b5_offs = parse(buf, b5_offs, 'uint32')\n",
    "        b5_c, nothing = parse_c(buf, b5_c_offs)\n",
    "        b5.append(b5_c)\n",
    "    return dict(B1=b1, B2=b2, B3=b3, B4=b4, B5=b5), offs\n",
    "\n",
    "\n",
    "def parse_a(buf, offs):\n",
    "    a1, offs = parse_b(buf, offs)\n",
    "    a2_size, offs = parse(buf, offs, 'uint32')\n",
    "    a2_offs, offs = parse(buf, offs, 'uint32')\n",
    "    a2 = ''\n",
    "    for _ in range(a2_size):\n",
    "        value, a2_offs = parse(buf, a2_offs, 'char')\n",
    "        a2 += value.decode('utf-8')\n",
    "    a3, offs = parse_d(buf, offs)\n",
    "    return dict(A1=a1, A2=a2, A3=a3), offs\n",
    "    \n",
    "\n",
    "def main(stream):\n",
    "    res, _ = parse_a(stream, 4)\n",
    "    return res\n",
    "\n",
    "print(main(b'\\xe3UPBE\\xb9\\xc3\\xba\\x14\\xd2?\\xe0\\x90\\xdfQ\\xffZ\\x94\\x00\\x00\\x00\\x04\\x00:'\n",
    " b'\\x00\\x02\\x00H\\x00\\x00\\x00\\x02\\x00\\x00\\x00P\\xed@X\\xb98=\"\\x9b\\x8d\\x01\\xf2o'\n",
    " b'^@(\\x94\\x82\\x1a\\x00\\x02\\x00RjegoW\\xe3\\xf60\\n\\xa2\\xf1\\xf4O\\xd8\\x00\\x00\\x00>'\n",
    " b'\\x00\\x00\\x00CvaK\\xa2'))\n",
    "print()\n",
    "print(main(b'\\xe3UPB>\\xc2~v?\\xb9\\xbf\\xc4E\\xa04w\\xc4\\x88\\x00\\x00\\x00\\x05\\x00:\\x00\\x03\\x00N'\n",
    " b'\\x00\\x00\\x00\\x03\\x00\\x00\\x00ZK\\xc2\\xd6R]\\xbfe\\xb3c\\xb8\\xdd\\x11\\xe7\\x93:\\x0b'\n",
    " b'T\\xd0\\x00\\x03\\x00]akfhb\\xd7\\x9e\\x0767\\xe2\\xd0\\xf1H\\xcd\\x89#O\\x1c\\xfd\\x00\\x00'\n",
    " b'\\x00?\\x00\\x00\\x00D\\x00\\x00\\x00Ixvg(\\xf0\\x15'))"
   ]
  }
 ],
 "metadata": {
  "kernelspec": {
   "display_name": "Python 3 (ipykernel)",
   "language": "python",
   "name": "python3"
  },
  "language_info": {
   "codemirror_mode": {
    "name": "ipython",
    "version": 3
   },
   "file_extension": ".py",
   "mimetype": "text/x-python",
   "name": "python",
   "nbconvert_exporter": "python",
   "pygments_lexer": "ipython3",
   "version": "3.11.2"
  }
 },
 "nbformat": 4,
 "nbformat_minor": 5
}
