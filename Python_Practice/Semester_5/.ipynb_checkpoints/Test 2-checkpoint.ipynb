{
 "cells": [
  {
   "cell_type": "markdown",
   "id": "711bb461",
   "metadata": {},
   "source": [
    "## 2.2"
   ]
  },
  {
   "cell_type": "code",
   "execution_count": 45,
   "id": "f668986c",
   "metadata": {},
   "outputs": [
    {
     "name": "stdout",
     "output_type": "stream",
     "text": [
      "1100100010010100111010110000000101111\n",
      "1011000000000000\n",
      "10100111\n",
      "1100100010000000000000000000000000000\n"
     ]
    },
    {
     "data": {
      "text/plain": [
       "107642663079"
      ]
     },
     "execution_count": 45,
     "metadata": {},
     "output_type": "execute_result"
    }
   ],
   "source": [
    "def main(x):\n",
    "    x = int(x, 16)\n",
    "    b2m = 0b00000000000000000000111111110000000000\n",
    "    b3m = 0b00000000000111111111000000000000000000\n",
    "    b4m = 0b11111111111100000000000000000000000000\n",
    "    b0m = 0b00000000000011111111110000000000000000\n",
    "    b2 = x & b2m\n",
    "    b2 = b2 >> 1\n",
    "    b3 = x & b3m\n",
    "    b3 = b3 >> 18\n",
    "    b4 = x & b4m\n",
    "    res = b2 | b3 | b4\n",
    "    \n",
    "    print('{:b}'.format(x))\n",
    "    print('{:b}'.format(b2))\n",
    "    print('{:b}'.format(b3))\n",
    "    print('{:b}'.format(b4))\n",
    "    return res\n",
    "    \n",
    "    \n",
    "    \n",
    "main('0x19129d602f')"
   ]
  },
  {
   "cell_type": "code",
   "execution_count": 50,
   "id": "ac233285",
   "metadata": {},
   "outputs": [
    {
     "name": "stdout",
     "output_type": "stream",
     "text": [
      "[('K1', 15), ('K2', 29), ('K3', 67), ('K4', 1), ('K5', 3), ('K6', 17)]\n"
     ]
    },
    {
     "data": {
      "text/plain": [
       "[('K1', 15), ('K2', 29), ('K3', 67), ('K4', 1), ('K5', 3), ('K6', 17)]"
      ]
     },
     "execution_count": 50,
     "metadata": {},
     "output_type": "execute_result"
    }
   ],
   "source": [
    "def main(x):\n",
    "    x = int(x)\n",
    "    k = [0b00000000000000000000001111,\n",
    "         0b00000000000000000111110000,\n",
    "         0b00000000001111111000000000,\n",
    "         0b00000000010000000000000000,\n",
    "         0b00000001100000000000000000,\n",
    "         0b11111110000000000000000000]\n",
    "    k1 = x & k[0]\n",
    "    k2 = x & k[1]\n",
    "    k2 = k2 >> 4\n",
    "    k3 = x & k[2]\n",
    "    k3 = k3 >> 9\n",
    "    k4 = x & k[3]\n",
    "    k4 = k4 >> 16\n",
    "    k5 = x & k[4]\n",
    "    k5 = k5 >> 17\n",
    "    k6 = x & k[5]\n",
    "    k6 = k6 >> 19\n",
    "    kk = [k1, k2, k3, k4, k5, k6]\n",
    "    res = [('K' + str(i+1), kk[i]) for i in range(len(k))]\n",
    "    print(res)\n",
    "    \n",
    "   \n",
    "    return res\n",
    "    \n",
    "    \n",
    "    \n",
    "main('9406431')"
   ]
  }
 ],
 "metadata": {
  "kernelspec": {
   "display_name": "Python 3 (ipykernel)",
   "language": "python",
   "name": "python3"
  },
  "language_info": {
   "codemirror_mode": {
    "name": "ipython",
    "version": 3
   },
   "file_extension": ".py",
   "mimetype": "text/x-python",
   "name": "python",
   "nbconvert_exporter": "python",
   "pygments_lexer": "ipython3",
   "version": "3.11.2"
  }
 },
 "nbformat": 4,
 "nbformat_minor": 5
}
