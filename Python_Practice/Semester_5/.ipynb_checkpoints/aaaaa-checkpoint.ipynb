{
 "cells": [
  {
   "cell_type": "markdown",
   "id": "b803dc30",
   "metadata": {},
   "source": [
    "## 1"
   ]
  },
  {
   "cell_type": "code",
   "execution_count": null,
   "id": "c8c8fc1a",
   "metadata": {},
   "outputs": [],
   "source": [
    "import math\n",
    "\n",
    "def main(z, y, x):\n",
    "    n = len(z)\n",
    "    res = 0\n",
    "    for i in range(1, n + 1):\n",
    "        res += 33*math.sin(44*y[n+1-math.ceil(i/3) - 1]**3 - z[math.ceil(i/2) - 1]**2 - 6*x[n+1-i-1])**3\n",
    "    return res"
   ]
  }
 ],
 "metadata": {
  "kernelspec": {
   "display_name": "Python 3 (ipykernel)",
   "language": "python",
   "name": "python3"
  },
  "language_info": {
   "codemirror_mode": {
    "name": "ipython",
    "version": 3
   },
   "file_extension": ".py",
   "mimetype": "text/x-python",
   "name": "python",
   "nbconvert_exporter": "python",
   "pygments_lexer": "ipython3",
   "version": "3.11.2"
  }
 },
 "nbformat": 4,
 "nbformat_minor": 5
}
