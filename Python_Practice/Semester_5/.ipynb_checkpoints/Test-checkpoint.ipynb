{
 "cells": [
  {
   "cell_type": "markdown",
   "id": "d3e8c3c6",
   "metadata": {},
   "source": [
    "## 1.1"
   ]
  },
  {
   "cell_type": "code",
   "execution_count": 52,
   "id": "0379daf9",
   "metadata": {
    "scrolled": true
   },
   "outputs": [
    {
     "name": "stdout",
     "output_type": "stream",
     "text": [
      "2.02e+10\n"
     ]
    }
   ],
   "source": [
    "import math\n",
    "\n",
    "def main(z):\n",
    "    res = 0\n",
    "    for i in range(1, len(z) + 1):\n",
    "        res += ((1 - 87*z[math.ceil(i/4)-1]**2 - 46*z[math.ceil(i/4)-1]**3)**6) / 38\n",
    "    return res\n",
    "        \n",
    "    \n",
    "print('{:.2e}'.format(main([0.79, -0.57, 0.94, 0.67, 0.8])))"
   ]
  },
  {
   "cell_type": "code",
   "execution_count": 53,
   "id": "8a5ca87a",
   "metadata": {},
   "outputs": [
    {
     "name": "stdout",
     "output_type": "stream",
     "text": [
      "-1.23e+02\n"
     ]
    }
   ],
   "source": [
    "import math\n",
    "\n",
    "def main(x, z, y):\n",
    "    n = len(x)\n",
    "    res = 0\n",
    "    for i in range(1, n+1):\n",
    "        res+= (11*y[n+1-math.ceil(i/4)-1]**3 + x[n+1-i-1]**2 + z[i-1]/44)**5\n",
    "    return res\n",
    "\n",
    "\n",
    "print('{:.2e}'.format(main([-0.62, -0.98],\n",
    "                           [-0.23, 0.23],\n",
    "                           [0.76, -0.64])))"
   ]
  },
  {
   "cell_type": "markdown",
   "id": "c28a09ef",
   "metadata": {},
   "source": [
    "## 1.2"
   ]
  },
  {
   "cell_type": "code",
   "execution_count": 56,
   "id": "79ce815d",
   "metadata": {
    "scrolled": true
   },
   "outputs": [
    {
     "name": "stdout",
     "output_type": "stream",
     "text": [
      "{68, 11, -48, 49, 18, 57, 61, -33}\n",
      "{2, 6, 7, 8, -6}\n",
      "{2304, 1026, 3332, 3721, 4624, -2928, -363, 3477, 1045, 539, 671, -864, -2013, 3876, 5795, -1881, 5415, 2989, -594, -1617, 1584, 3249, -4560, 4655, 4148, 1710, -2244, 6460, -3264, 1089, -3135, 324, 198, 1224, 1098, -2352, -2736, 2401, 2793, 748, -528, 882, 627, 121}\n",
      "860920\n"
     ]
    }
   ],
   "source": [
    "import math\n",
    "\n",
    "def main(K):\n",
    "    H = {k for k in K if (k > -55 and k <= 82)}\n",
    "    print (H)\n",
    "    F = {math.floor(n/8) for n in H if (n < 16 or n>= -35) and (not(n < 16 and n>=-35))}\n",
    "    print (F)\n",
    "    I = {k*n for k in K for n in H if k>=n}\n",
    "    print (I)\n",
    "    t = 0\n",
    "    IxF = {(i, f) for i in I for f in F}\n",
    "    t+= sum(I)*3 + sum(e[0]*e[1] for e in IxF)\n",
    "    return t\n",
    "\n",
    "print(main({68, 11, -48, -80, 18, 49, 57, -33, 61, 95}))"
   ]
  },
  {
   "cell_type": "markdown",
   "id": "9735d47f",
   "metadata": {},
   "source": [
    "## 2.1"
   ]
  },
  {
   "cell_type": "code",
   "execution_count": 62,
   "id": "0a9137d1",
   "metadata": {},
   "outputs": [
    {
     "name": "stdout",
     "output_type": "stream",
     "text": [
      "9\n"
     ]
    }
   ],
   "source": [
    "def x0(x, l, m, r):\n",
    "    if x[0] == 'AWK': return r\n",
    "    if x[0] == 'LEX': return m\n",
    "    if x[0] == 'FLUX': return l\n",
    "\n",
    "def x1(x, l, m, r):\n",
    "    if x[1] == 2013: return r\n",
    "    if x[1] == 1997: return m\n",
    "    if x[1] == 1967: return l\n",
    "    \n",
    "def x2(x, l, m, r):\n",
    "    if x[2] == 1962: return r\n",
    "    if x[2] == 2019: return m\n",
    "    if x[2] == 1970: return l\n",
    "    \n",
    "def x3(x, l, m, r):\n",
    "    if x[3] == 'EQ': return r\n",
    "    if x[3] == 'METAL': return m\n",
    "    if x[3] == 'TEXT': return l\n",
    "\n",
    "def main(x):\n",
    "    return (x1(x, x2(x, 12, 11, x0(x, 10, 9, 8)), 7, x0(x, 6, x3(x, 5, 4, 3), x2(x, 2, 1, 0))))\n",
    "\n",
    "\n",
    "print(main(['LEX', 1967, 1962, 'EQ']))"
   ]
  }
 ],
 "metadata": {
  "kernelspec": {
   "display_name": "Python 3 (ipykernel)",
   "language": "python",
   "name": "python3"
  },
  "language_info": {
   "codemirror_mode": {
    "name": "ipython",
    "version": 3
   },
   "file_extension": ".py",
   "mimetype": "text/x-python",
   "name": "python",
   "nbconvert_exporter": "python",
   "pygments_lexer": "ipython3",
   "version": "3.11.2"
  }
 },
 "nbformat": 4,
 "nbformat_minor": 5
}
