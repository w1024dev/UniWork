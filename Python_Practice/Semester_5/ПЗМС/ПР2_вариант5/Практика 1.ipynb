{
 "cells": [
  {
   "cell_type": "markdown",
   "id": "58d6b0ad",
   "metadata": {},
   "source": [
    "## Дискретные данные 1"
   ]
  },
  {
   "cell_type": "code",
   "execution_count": 4,
   "id": "73f2e916",
   "metadata": {},
   "outputs": [],
   "source": [
    "height = [1.75, 1.92, 1.87, 1.75, 1.77, 1.98, 1.9, 1.83, 1.8, 1.8, 1.85]\n"
   ]
  },
  {
   "cell_type": "markdown",
   "id": "aeb10d91",
   "metadata": {},
   "source": [
    "## Дискретные данные 2"
   ]
  },
  {
   "cell_type": "code",
   "execution_count": 6,
   "id": "fbd2891d",
   "metadata": {},
   "outputs": [
    {
     "name": "stdout",
     "output_type": "stream",
     "text": [
      "Variational_series:  [1, 3, 3, 4, 7, 7, 8, 10, 11, 11, 12]\n",
      "dict_keys([1, 3, 4, 7, 8, 10, 11, 12])\n",
      "{1: 1, 3: 2, 4: 1, 7: 2, 8: 1, 10: 1, 11: 2, 12: 1}\n"
     ]
    }
   ],
   "source": [
    "month_of_birth = [12, 11, 11, 4, 7, 7, 8, 1, 3, 3, 10]\n",
    "\n",
    "var_series = month_of_birth\n",
    "sorted = 0\n",
    "while sorted == 0:\n",
    "    sorted = 1\n",
    "    for i in range(len(var_series)-1):\n",
    "        if var_series[i + 1] < var_series[i]:\n",
    "            var_series[i], var_series[i + 1] = var_series[i + 1], var_series[i]\n",
    "            sorted = 0\n",
    "print(\"Variational_series: \", var_series)\n",
    "\n",
    "stat_series = []\n",
    "stat_series.append(set(var_series))\n",
    "xi = set(var_series)\n",
    "ni = {x:0 for x in xi}\n",
    "for i in var_series:\n",
    "    ni[i] = ni[i] + 1\n",
    "stat_series.append(ni.values)\n",
    "\n",
    "print(ni.keys())\n",
    "print(ni)"
   ]
  },
  {
   "cell_type": "markdown",
   "id": "e98cd81f",
   "metadata": {},
   "source": [
    "## Непрерывные данные"
   ]
  },
  {
   "cell_type": "code",
   "execution_count": null,
   "id": "06b6bfd1",
   "metadata": {},
   "outputs": [],
   "source": [
    "values = [7, 2, 7, 6, 5, 7, 4, 6, 7, 4, 0]"
   ]
  }
 ],
 "metadata": {
  "kernelspec": {
   "display_name": "Python 3 (ipykernel)",
   "language": "python",
   "name": "python3"
  },
  "language_info": {
   "codemirror_mode": {
    "name": "ipython",
    "version": 3
   },
   "file_extension": ".py",
   "mimetype": "text/x-python",
   "name": "python",
   "nbconvert_exporter": "python",
   "pygments_lexer": "ipython3",
   "version": "3.11.2"
  }
 },
 "nbformat": 4,
 "nbformat_minor": 5
}
