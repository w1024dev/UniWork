{
 "cells": [
  {
   "cell_type": "markdown",
   "id": "228e9c57",
   "metadata": {},
   "source": [
    "## Table 1"
   ]
  },
  {
   "cell_type": "code",
   "execution_count": 54,
   "id": "9e959781",
   "metadata": {
    "scrolled": true
   },
   "outputs": [
    {
     "name": "stdout",
     "output_type": "stream",
     "text": [
      "Table size:  100\n",
      "Sample average:  59.698903945628246\n",
      "Standard deviation:  2.3292968844932953\n",
      "Confidence interval, Laplace:  59.24236175626756 60.15544613498893\n",
      "Confidence interval, Student:  59.236072654679425 60.161735236577066\n",
      "Confidence interval, chi2:  2.0361274876739763 2.690148961947611\n"
     ]
    }
   ],
   "source": [
    "import math\n",
    "from scipy.stats.distributions import chi2\n",
    "\n",
    "\n",
    "def sample_avg(data):\n",
    "    return sum(data)/len(data)\n",
    "\n",
    "\n",
    "def standard_deviation(data):\n",
    "    avg = sample_avg(data)\n",
    "    return math.sqrt(sum([(x - avg)**2 for x in data])/(len(data)-1))\n",
    "    \n",
    "    \n",
    "def confidence_interval_1(data):\n",
    "    interval = []\n",
    "    interval.append(sample_avg(data) - 1.96*standard_deviation(data)/math.sqrt(len(data)))\n",
    "    interval.append(sample_avg(data) + 1.96*standard_deviation(data)/math.sqrt(len(data)))\n",
    "    return interval\n",
    "    \n",
    "    \n",
    "def confidence_interval_2(data):\n",
    "    t = 1.987\n",
    "    interval = []\n",
    "    interval.append(sample_avg(data) - t*standard_deviation(data)/math.sqrt(len(data)))\n",
    "    interval.append(sample_avg(data) + t*standard_deviation(data)/math.sqrt(len(data)))\n",
    "    return interval\n",
    "\n",
    "\n",
    "def confidence_interval_3(data, coefficient):\n",
    "    x2_1 = chi2.ppf((1 + coefficient)/2, df=len(data))\n",
    "    x2_2 = chi2.ppf((1 - coefficient)/2, df=len(data))\n",
    "    interval = []\n",
    "    interval.append(standard_deviation(data)*math.sqrt(len(data)-1)/math.sqrt(x2_1))\n",
    "    interval.append(standard_deviation(data)*math.sqrt(len(data)-1)/math.sqrt(x2_2))\n",
    "    return (interval)\n",
    "\n",
    "    \n",
    "with open(\"1.txt\", 'r') as file:\n",
    "    data = file.read()\n",
    "data = [float(a) for a in list(filter(bool, data.split(sep='\\n')))]\n",
    "\n",
    "print(\"Table size: \", len(data))\n",
    "print(\"Sample average: \", sample_avg(data))\n",
    "print(\"Standard deviation: \", standard_deviation(data))\n",
    "print(\"Confidence interval, Laplace: \", *confidence_interval_1(data))\n",
    "print(\"Confidence interval, Student: \", *confidence_interval_2(data))\n",
    "print(\"Confidence interval, chi2: \", *confidence_interval_3(data, 0.95))\n"
   ]
  },
  {
   "cell_type": "markdown",
   "id": "a32009e3",
   "metadata": {},
   "source": [
    "## Table 2"
   ]
  },
  {
   "cell_type": "code",
   "execution_count": 48,
   "id": "90a1f743",
   "metadata": {},
   "outputs": [
    {
     "name": "stdout",
     "output_type": "stream",
     "text": [
      "Table size:  10\n",
      "Sample average:  64.41771567330052\n",
      "Standard deviation:  5.800971633693082\n",
      "Confidence interval, Laplace:  60.82223620441889 68.01319514218214\n",
      "Confidence interval, Student:  60.330609419898344 68.5048219267027\n",
      "x2_1:  20.483177350807388\n",
      "x2_2:  3.246972780236842\n",
      "Confidence interval, chi2:  3.8452389594600773 9.657899294351514\n"
     ]
    }
   ],
   "source": [
    "import math\n",
    "from scipy.stats.distributions import chi2\n",
    "\n",
    "\n",
    "def sample_avg(data):\n",
    "    return sum(data)/len(data)\n",
    "\n",
    "\n",
    "def standard_deviation(data):\n",
    "    avg = sample_avg(data)\n",
    "    return math.sqrt(sum([(x - avg)**2 for x in data])/(len(data)-1))\n",
    "    \n",
    "    \n",
    "def confidence_interval_1(data):\n",
    "    interval = []\n",
    "    interval.append(sample_avg(data) - 1.96*standard_deviation(data)/math.sqrt(len(data)))\n",
    "    interval.append(sample_avg(data) + 1.96*standard_deviation(data)/math.sqrt(len(data)))\n",
    "    return interval\n",
    "    \n",
    "    \n",
    "def confidence_interval_2(data):\n",
    "    t = 2.228\n",
    "    interval = []\n",
    "    interval.append(sample_avg(data) - t*standard_deviation(data)/math.sqrt(len(data)))\n",
    "    interval.append(sample_avg(data) + t*standard_deviation(data)/math.sqrt(len(data)))\n",
    "    return interval\n",
    "\n",
    "\n",
    "def confidence_interval_3(data, coefficient):\n",
    "    x2_1 = chi2.ppf((1 + coefficient)/2, df=len(data))\n",
    "    x2_2 = chi2.ppf((1 - coefficient)/2, df=len(data))\n",
    "    print(\"x2_1: \", x2_1)\n",
    "    print(\"x2_2: \", x2_2)\n",
    "    interval = []\n",
    "    interval.append(standard_deviation(data)*math.sqrt(len(data)-1)/math.sqrt(x2_1))\n",
    "    interval.append(standard_deviation(data)*math.sqrt(len(data)-1)/math.sqrt(x2_2))\n",
    "    return (interval)\n",
    "\n",
    "    \n",
    "with open(\"2.txt\", 'r') as file:\n",
    "    data = file.read()\n",
    "data = [float(a) for a in list(filter(bool, data.split(sep='\\n')))]\n",
    "\n",
    "print(\"Table size: \", len(data))\n",
    "print(\"Sample average: \", sample_avg(data))\n",
    "print(\"Standard deviation: \", standard_deviation(data))\n",
    "print(\"Confidence interval, Laplace: \", *confidence_interval_1(data))\n",
    "print(\"Confidence interval, Student: \", *confidence_interval_2(data))\n",
    "print(\"Confidence interval, chi2: \", *confidence_interval_3(data, 0.95))"
   ]
  },
  {
   "cell_type": "markdown",
   "id": "ab4492ac",
   "metadata": {},
   "source": [
    "## Table 3"
   ]
  },
  {
   "cell_type": "code",
   "execution_count": 55,
   "id": "230bccf8",
   "metadata": {},
   "outputs": [
    {
     "name": "stdout",
     "output_type": "stream",
     "text": [
      "Table size:  100\n",
      "Sample average:  64.12252822004254\n",
      "Standard deviation:  9.232413908186421\n",
      "Confidence interval, Laplace:  62.312975094038 65.93208134604708\n",
      "Confidence interval, Student:  62.288047576485894 65.95700886359919\n",
      "x2_1:  129.5611971858366\n",
      "x2_2:  74.22192747492373\n",
      "Confidence interval, chi2:  8.070406078841774 10.662689181753327\n"
     ]
    }
   ],
   "source": [
    "import math\n",
    "from scipy.stats.distributions import chi2\n",
    "\n",
    "\n",
    "def sample_avg(data):\n",
    "    return sum(data)/len(data)\n",
    "\n",
    "\n",
    "def standard_deviation(data):\n",
    "    avg = sample_avg(data)\n",
    "    return math.sqrt(sum([(x - avg)**2 for x in data])/(len(data)-1))\n",
    "    \n",
    "    \n",
    "def confidence_interval_1(data):\n",
    "    interval = []\n",
    "    interval.append(sample_avg(data) - 1.96*standard_deviation(data)/math.sqrt(len(data)))\n",
    "    interval.append(sample_avg(data) + 1.96*standard_deviation(data)/math.sqrt(len(data)))\n",
    "    return interval\n",
    "    \n",
    "    \n",
    "def confidence_interval_2(data):\n",
    "    t = 1.987\n",
    "    interval = []\n",
    "    interval.append(sample_avg(data) - t*standard_deviation(data)/math.sqrt(len(data)))\n",
    "    interval.append(sample_avg(data) + t*standard_deviation(data)/math.sqrt(len(data)))\n",
    "    return interval\n",
    "\n",
    "\n",
    "def confidence_interval_3(data, coefficient):\n",
    "    x2_1 = chi2.ppf((1 + coefficient)/2, df=len(data))\n",
    "    x2_2 = chi2.ppf((1 - coefficient)/2, df=len(data))\n",
    "    print(\"x2_1: \", x2_1)\n",
    "    print(\"x2_2: \", x2_2)\n",
    "    interval = []\n",
    "    interval.append(standard_deviation(data)*math.sqrt(len(data)-1)/math.sqrt(x2_1))\n",
    "    interval.append(standard_deviation(data)*math.sqrt(len(data)-1)/math.sqrt(x2_2))\n",
    "    return (interval)\n",
    "\n",
    "    \n",
    "with open(\"3.txt\", 'r') as file:\n",
    "    data = file.read()\n",
    "data = [float(a) for a in list(filter(bool, data.split(sep='\\n')))]\n",
    "\n",
    "print(\"Table size: \", len(data))\n",
    "print(\"Sample average: \", sample_avg(data))\n",
    "print(\"Standard deviation: \", standard_deviation(data))\n",
    "print(\"Confidence interval, Laplace: \", *confidence_interval_1(data))\n",
    "print(\"Confidence interval, Student: \", *confidence_interval_2(data))\n",
    "print(\"Confidence interval, chi2: \", *confidence_interval_3(data, 0.95))"
   ]
  },
  {
   "cell_type": "markdown",
   "id": "f7b371b7",
   "metadata": {},
   "source": [
    "## Table 4"
   ]
  },
  {
   "cell_type": "code",
   "execution_count": 52,
   "id": "478355cf",
   "metadata": {},
   "outputs": [
    {
     "name": "stdout",
     "output_type": "stream",
     "text": [
      "Table size:  10\n",
      "Sample average:  58.57825940130486\n",
      "Standard deviation:  2.3138530653804157\n",
      "Confidence interval, Laplace:  57.144118413222195 60.01240038938753\n",
      "Confidence interval, Student:  56.94802158423947 60.208497218370255\n",
      "x2_1:  20.483177350807388\n",
      "x2_2:  3.246972780236842\n",
      "Confidence interval, chi2:  1.533763396081733 3.8522787730206196\n"
     ]
    }
   ],
   "source": [
    "import math\n",
    "from scipy.stats.distributions import chi2\n",
    "\n",
    "\n",
    "def sample_avg(data):\n",
    "    return sum(data)/len(data)\n",
    "\n",
    "\n",
    "def standard_deviation(data):\n",
    "    avg = sample_avg(data)\n",
    "    return math.sqrt(sum([(x - avg)**2 for x in data])/(len(data)-1))\n",
    "    \n",
    "    \n",
    "def confidence_interval_1(data):\n",
    "    interval = []\n",
    "    interval.append(sample_avg(data) - 1.96*standard_deviation(data)/math.sqrt(len(data)))\n",
    "    interval.append(sample_avg(data) + 1.96*standard_deviation(data)/math.sqrt(len(data)))\n",
    "    return interval\n",
    "    \n",
    "    \n",
    "def confidence_interval_2(data):\n",
    "    t = 2.228\n",
    "    interval = []\n",
    "    interval.append(sample_avg(data) - t*standard_deviation(data)/math.sqrt(len(data)))\n",
    "    interval.append(sample_avg(data) + t*standard_deviation(data)/math.sqrt(len(data)))\n",
    "    return interval\n",
    "\n",
    "\n",
    "def confidence_interval_3(data, coefficient):\n",
    "    x2_1 = chi2.ppf((1 + coefficient)/2, df=len(data))\n",
    "    x2_2 = chi2.ppf((1 - coefficient)/2, df=len(data))\n",
    "    print(\"x2_1: \", x2_1)\n",
    "    print(\"x2_2: \", x2_2)\n",
    "    interval = []\n",
    "    interval.append(standard_deviation(data)*math.sqrt(len(data)-1)/math.sqrt(x2_1))\n",
    "    interval.append(standard_deviation(data)*math.sqrt(len(data)-1)/math.sqrt(x2_2))\n",
    "    return (interval)\n",
    "\n",
    "    \n",
    "with open(\"4.txt\", 'r') as file:\n",
    "    data = file.read()\n",
    "data = [float(a) for a in list(filter(bool, data.split(sep='\\n')))]\n",
    "\n",
    "print(\"Table size: \", len(data))\n",
    "print(\"Sample average: \", sample_avg(data))\n",
    "print(\"Standard deviation: \", standard_deviation(data))\n",
    "print(\"Confidence interval, Laplace: \", *confidence_interval_1(data))\n",
    "print(\"Confidence interval, Student: \", *confidence_interval_2(data))\n",
    "print(\"Confidence interval, chi2: \", *confidence_interval_3(data, 0.95))"
   ]
  }
 ],
 "metadata": {
  "kernelspec": {
   "display_name": "Python 3 (ipykernel)",
   "language": "python",
   "name": "python3"
  },
  "language_info": {
   "codemirror_mode": {
    "name": "ipython",
    "version": 3
   },
   "file_extension": ".py",
   "mimetype": "text/x-python",
   "name": "python",
   "nbconvert_exporter": "python",
   "pygments_lexer": "ipython3",
   "version": "3.11.2"
  }
 },
 "nbformat": 4,
 "nbformat_minor": 5
}
