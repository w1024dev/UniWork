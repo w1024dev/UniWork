{
 "cells": [
  {
   "cell_type": "markdown",
   "id": "58d6b0ad",
   "metadata": {},
   "source": [
    "## Дискретные данные 1"
   ]
  },
  {
   "cell_type": "code",
   "execution_count": null,
   "id": "73f2e916",
   "metadata": {},
   "outputs": [],
   "source": [
    "height = [1.75, 1.92, 1.87, 1.75, 1.77, 1.98, 1.9, 1.83, 1.8, 1.8, 1.85]\n"
   ]
  },
  {
   "cell_type": "markdown",
   "id": "aeb10d91",
   "metadata": {},
   "source": [
    "## Дискретные данные 2"
   ]
  },
  {
   "cell_type": "code",
   "execution_count": 2,
   "id": "fbd2891d",
   "metadata": {},
   "outputs": [
    {
     "name": "stdout",
     "output_type": "stream",
     "text": [
      "Variational_series:  [1, 3, 3, 4, 7, 7, 8, 10, 11, 11, 12]\n"
     ]
    },
    {
     "ename": "NameError",
     "evalue": "name 'stat' is not defined",
     "output_type": "error",
     "traceback": [
      "\u001b[1;31m---------------------------------------------------------------------------\u001b[0m",
      "\u001b[1;31mNameError\u001b[0m                                 Traceback (most recent call last)",
      "Cell \u001b[1;32mIn[2], line 19\u001b[0m\n\u001b[0;32m     17\u001b[0m \u001b[38;5;28;01mfor\u001b[39;00m i \u001b[38;5;129;01min\u001b[39;00m var_series:\n\u001b[0;32m     18\u001b[0m     ni[i] \u001b[38;5;241m=\u001b[39m ni[i] \u001b[38;5;241m+\u001b[39m \u001b[38;5;241m1\u001b[39m\n\u001b[1;32m---> 19\u001b[0m \u001b[43mstat\u001b[49m\u001b[38;5;241m.\u001b[39mseries\u001b[38;5;241m.\u001b[39mappend(ni\u001b[38;5;241m.\u001b[39mvalues)\n\u001b[0;32m     21\u001b[0m \u001b[38;5;28mprint\u001b[39m(ni\u001b[38;5;241m.\u001b[39mkeys())\n\u001b[0;32m     22\u001b[0m \u001b[38;5;28mprint\u001b[39m(ni)\n",
      "\u001b[1;31mNameError\u001b[0m: name 'stat' is not defined"
     ]
    }
   ],
   "source": [
    "month_of_birth = [12, 11, 11, 4, 7, 7, 8, 1, 3, 3, 10]\n",
    "\n",
    "var_series = month_of_birth\n",
    "sorted = 0\n",
    "while sorted == 0:\n",
    "    sorted = 1\n",
    "    for i in range(len(var_series)-1):\n",
    "        if var_series[i + 1] < var_series[i]:\n",
    "            var_series[i], var_series[i + 1] = var_series[i + 1], var_series[i]\n",
    "            sorted = 0\n",
    "print(\"Variational_series: \", var_series)\n",
    "\n",
    "stat_series = []\n",
    "stat_series.append(set(var_series))\n",
    "xi = set(var_series)\n",
    "ni = {x:0 for x in xi}\n",
    "for i in var_series:\n",
    "    ni[i] = ni[i] + 1\n",
    "stat.series.append(ni.values)\n",
    "\n",
    "print(ni.keys())\n",
    "print(ni)"
   ]
  },
  {
   "cell_type": "markdown",
   "id": "e98cd81f",
   "metadata": {},
   "source": [
    "## Непрерывные данные"
   ]
  },
  {
   "cell_type": "code",
   "execution_count": null,
   "id": "06b6bfd1",
   "metadata": {},
   "outputs": [],
   "source": [
    "values = [7, 2, 7, 6, 5, 7, 4, 6, 7, 4, 0]"
   ]
  }
 ],
 "metadata": {
  "kernelspec": {
   "display_name": "Python 3 (ipykernel)",
   "language": "python",
   "name": "python3"
  },
  "language_info": {
   "codemirror_mode": {
    "name": "ipython",
    "version": 3
   },
   "file_extension": ".py",
   "mimetype": "text/x-python",
   "name": "python",
   "nbconvert_exporter": "python",
   "pygments_lexer": "ipython3",
   "version": "3.11.2"
  }
 },
 "nbformat": 4,
 "nbformat_minor": 5
}
