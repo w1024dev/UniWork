{
 "cells": [
  {
   "cell_type": "markdown",
   "id": "25c2e0af",
   "metadata": {},
   "source": [
    "### Расчет массы ступеней для двухступенчатой ракеты"
   ]
  },
  {
   "cell_type": "code",
   "execution_count": 1,
   "id": "7e3e9fa1",
   "metadata": {},
   "outputs": [
    {
     "name": "stdout",
     "output_type": "stream",
     "text": [
      "Input parameter to calculate: [m0, mp] mp\n",
      "Input mp: 100\n",
      "m0 =  2000.0\n",
      "m2 =  450.132\n",
      "m1 =  1449.868\n",
      "mp =  100.0\n"
     ]
    }
   ],
   "source": [
    "import math\n",
    "\n",
    "V_2 = 8 * 1000 # m/s\n",
    "U = 3 * 1000   # m/s\n",
    "V_1 = V_2/2\n",
    "Lambda = 0.1\n",
    "\n",
    "\n",
    "choice = input(\"Input parameter to calculate: [m0, mp] \")\n",
    "if(choice==\"m0\"):\n",
    "    m_0 = float(input(\"Input m0: \"))\n",
    "    m_p = m_0/20\n",
    "elif(choice==\"mp\"):\n",
    "    m_p = float(input(\"Input mp: \"))\n",
    "    m_0 = m_p*20\n",
    "else:\n",
    "    print(\"Error: no such parameter exists\")\n",
    "\n",
    "#m_p = m_0/30.25\n",
    "\n",
    "print(\"m0 = \", m_0)\n",
    "k_2 = math.e**((V_2-V_1)/U)\n",
    "m_2 = m_p*(1-k_2)/(k_2*Lambda-1)\n",
    "#print(\"\\nk_2 = \", round(k_2, 2))\n",
    "print(\"m2 = \", round(m_2, 3))\n",
    "\n",
    "k_1 = math.e**(V_1/U)\n",
    "#m_1 = (m_2+m_p)*(1-k_1)/(k_1*Lambda-1)\n",
    "m_1 = m_0 - m_2 - m_p\n",
    "#print(\"\\nk_1 = \", round(k_1, 2))\n",
    "print(\"m1 = \", round(m_1, 3))\n",
    "print(\"mp = \", round(m_p, 3))\n",
    "#print(f\"\\nm0 = 10 = {round(m_2+m_1+m_p,2)} ({m_0==round(m_2+m_1+m_p)})\")"
   ]
  },
  {
   "cell_type": "markdown",
   "id": "8a820301",
   "metadata": {},
   "source": [
    "### Расчет массы ступеней для трехступенчатой ракеты"
   ]
  },
  {
   "cell_type": "code",
   "execution_count": 2,
   "id": "ee6db598",
   "metadata": {},
   "outputs": [
    {
     "name": "stdout",
     "output_type": "stream",
     "text": [
      "Input parameter to calculate: [m0, mp] mp\n",
      "Input mp: 100\n",
      "m0 =  2000.0\n",
      "m3 =  450.132\n",
      "m2 =  647.493\n",
      "m1 =  802.375\n",
      "mp =  100.0\n"
     ]
    }
   ],
   "source": [
    "choice = input(\"Input parameter to calculate: [m0, mp] \")\n",
    "if(choice==\"m0\"):\n",
    "    m_0 = float(input(\"Input m0: \"))\n",
    "    m_p = m_0/20\n",
    "elif(choice==\"mp\"):\n",
    "    m_p = float(input(\"Input mp: \"))\n",
    "    m_0 = m_p*20\n",
    "else:\n",
    "    print(\"Error: no such parameter exists\")\n",
    "\n",
    "#m_p = m_0/26.06    # по условию /20\n",
    "\n",
    "V_3 = 8 * 1000\n",
    "V_2 = V_3/2\n",
    "V_1 = V_2/2\n",
    "\n",
    "print(\"m0 = \", m_0)\n",
    "k_3 = math.e**((V_3-V_2)/U)\n",
    "m_3 = m_p*(1-k_3)/(k_3*Lambda-1)\n",
    "print(\"m3 = \", round(m_3, 3))\n",
    "\n",
    "k_2 = math.e**((V_2-V_1)/U)\n",
    "m_2 = (m_3+m_p)*(1-k_2)/(k_2*Lambda-1)\n",
    "print(\"m2 = \", round(m_2, 3))\n",
    "\n",
    "k_1 = math.e**(V_1/U)\n",
    "#m_1 = (m_3+m_2+m_p)*(1-k_1)/(k_1*Lambda-1)\n",
    "m_1 = m_0 - m_3 - m_2 - m_p\n",
    "print(\"m1 = \", round(m_1, 3))\n",
    "print(\"mp = \", round(m_p, 3))\n",
    "#print(f\"\\nm0 = 10 = {round(m_3+m_2+m_1+m_p,2)} ({m_0==round(m_3+m_2+m_1+m_p)})\")"
   ]
  }
 ],
 "metadata": {
  "kernelspec": {
   "display_name": "Python 3 (ipykernel)",
   "language": "python",
   "name": "python3"
  },
  "language_info": {
   "codemirror_mode": {
    "name": "ipython",
    "version": 3
   },
   "file_extension": ".py",
   "mimetype": "text/x-python",
   "name": "python",
   "nbconvert_exporter": "python",
   "pygments_lexer": "ipython3",
   "version": "3.11.2"
  }
 },
 "nbformat": 4,
 "nbformat_minor": 5
}
