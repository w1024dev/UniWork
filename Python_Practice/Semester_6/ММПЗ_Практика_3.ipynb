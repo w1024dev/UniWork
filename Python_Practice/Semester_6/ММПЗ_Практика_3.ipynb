{
 "cells": [
  {
   "cell_type": "code",
   "execution_count": 2,
   "id": "f4b71c39",
   "metadata": {},
   "outputs": [],
   "source": [
    "import math\n",
    "g = 10    # м/с^2\n",
    "p = 0.5   # кг/м^3\n",
    "Pie = 3.14\n",
    "\n",
    "def surface(speed, angle, mass):\n",
    "    return (mass*g)/(2*p*speed**2*(angle*Pie/180)**2)\n",
    "    \n",
    "def speed(surface, angle, mass):\n",
    "    return math.sqrt((mass*g)/(2*p*(angle*Pie/180)**2*surface))\n",
    "    \n",
    "def angle(surface, speed, mass):\n",
    "    return (math.sqrt((mass*g)/(2*p*speed**2*surface)))*180/Pie\n",
    "    \n",
    "def mass(surface, speed, angle):\n",
    "    return (2*p*speed**2*(angle*Pie/180)**2*surface)/g"
   ]
  },
  {
   "cell_type": "code",
   "execution_count": 4,
   "id": "12eb2042",
   "metadata": {},
   "outputs": [
    {
     "name": "stdout",
     "output_type": "stream",
     "text": [
      "Choose which parameter to calculate from Surface, Speed, Angle, Mass: [1, 2, 3, 4] 1\n",
      "Input Speed in km/h: 900\n",
      "Input Angle in degrees: 5\n",
      "Input Mass in tons: 200\n",
      "Surface: 4206\n",
      "Gas mass: 58\n"
     ]
    }
   ],
   "source": [
    "#print(surface(speed=250, angle=3, mass=100000))    #5842\n",
    "#print(speed(surface=5842, angle=3, mass=100000))   #250\n",
    "#print(angle(surface=5842, speed=250, mass=100000)) #3\n",
    "#print(mass(surface=5842, speed=250, angle=3))      #10^5\n",
    "\n",
    "Surface, Speed, Angle, Mass = 0, 0, 0, 0\n",
    "\n",
    "choice = int(input(\"Choose which parameter to calculate from Surface, Speed, Angle, Mass: [1, 2, 3, 4] \"))\n",
    "match choice:\n",
    "    case 1: # surface\n",
    "        Speed = float(input(\"Input Speed in km/h: \"))\n",
    "        Speed = Speed / 3600 * 1000\n",
    "        Angle = float(input(\"Input Angle in degrees: \"))\n",
    "        Mass = float(input(\"Input Mass in tons: \"))\n",
    "        Mass = Mass*1000\n",
    "        \n",
    "        Surface = round(surface(Speed, Angle, Mass))\n",
    "        print(\"Surface:\", Surface)\n",
    "        \n",
    "    case 2: # speed\n",
    "        Surface = float(input(\"Input Surface in m^2: \"))\n",
    "        Angle = float(input(\"Input Angle in degrees: \"))\n",
    "        Mass = float(input(\"Input Mass in tons: \"))\n",
    "        Mass = Mass*1000\n",
    "        \n",
    "        Speed = round(speed(Surface, Angle, Mass))\n",
    "        print(\"Speed:\", Speed)\n",
    "        \n",
    "    case 3: # angle\n",
    "        Surface = float(input(\"Input Surface in m^2: \"))\n",
    "        Speed = float(input(\"Input Speed in km/h: \"))\n",
    "        Speed = Speed / 3600 * 1000\n",
    "        Mass = float(input(\"Input Mass in tons: \"))\n",
    "        Mass = Mass*1000\n",
    "        \n",
    "        Angle = round(angle(Surface, Speed, Mass))\n",
    "        print(\"Angle:\", Angle)\n",
    "    \n",
    "    case 4: # mass\n",
    "        Surface = float(input(\"Input Surface in m^2: \"))\n",
    "        Speed = float(input(\"Input Speed in km/h: \"))\n",
    "        Speed = Speed / 3600 * 1000\n",
    "        Angle = float(input(\"Input Angle in degrees: \"))\n",
    "        \n",
    "        Mass = round(mass(Surface, Speed, Angle))\n",
    "        print(\"Mass:\", Mass)\n",
    "    case _: # default case\n",
    "        print(\"Error: Unsupported parameter\")\n",
    "        \n",
    "# Расчет массы газа\n",
    "u = 3000\n",
    "print(\"Gas mass:\", round(2*p*Surface*(Angle*Pie/180)**3*Speed**2/u)) #17"
   ]
  }
 ],
 "metadata": {
  "kernelspec": {
   "display_name": "Python 3 (ipykernel)",
   "language": "python",
   "name": "python3"
  },
  "language_info": {
   "codemirror_mode": {
    "name": "ipython",
    "version": 3
   },
   "file_extension": ".py",
   "mimetype": "text/x-python",
   "name": "python",
   "nbconvert_exporter": "python",
   "pygments_lexer": "ipython3",
   "version": "3.11.2"
  }
 },
 "nbformat": 4,
 "nbformat_minor": 5
}
