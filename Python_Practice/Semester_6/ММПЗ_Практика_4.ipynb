{
 "cells": [
  {
   "cell_type": "code",
   "execution_count": 2,
   "id": "7c8359b2",
   "metadata": {},
   "outputs": [],
   "source": [
    "import math\n",
    "\n",
    "Pie = 3.14\n",
    "\n",
    "# Высота спутника (от центра планеты)\n",
    "def satellite_altitude(R, g, T):\n",
    "    return (T*R*math.sqrt(g)/(2*Pie))**(2/3)\n",
    "\n",
    "# Площадь сектора сферы\n",
    "def sector_area(R, R_satellite):\n",
    "    return 2*Pie*R*(R - R**2/R_satellite)\n",
    "\n",
    "def sphere_area(R):\n",
    "    return 4*Pie*R**2"
   ]
  },
  {
   "cell_type": "markdown",
   "id": "fe1034d8",
   "metadata": {},
   "source": [
    "## Расчет высоты геостационарного спутника Земли"
   ]
  },
  {
   "cell_type": "code",
   "execution_count": 3,
   "id": "bcfc9187",
   "metadata": {},
   "outputs": [
    {
     "name": "stdout",
     "output_type": "stream",
     "text": [
      "Радиус геостационарного спутника Земли: 42195205 м\n",
      "Высота геостационарного спутника Земли: 35895205 м над уровнем моря\n",
      "\n",
      "Площать поверхности Земли: 498506400 км^2\n",
      "Площать поверхности сектора: 212038185 км^2\n",
      "Отношение поверхности планеты к поверхности сектора: 2.35\n",
      "Для покрытия земной поверхности требуется 3 спутника\n"
     ]
    }
   ],
   "source": [
    "Earth_Radius = 6300 * 1000      # m\n",
    "Earth_g = 10                    # m/sec^2\n",
    "Earth_T = 24 * 60 * 60          # sec\n",
    "\n",
    "Earth_r = satellite_altitude(Earth_Radius, Earth_g, Earth_T)\n",
    "print(f\"Радиус геостационарного спутника Земли: {round(Earth_r)} м\")\n",
    "print(f\"Высота геостационарного спутника Земли: {round(Earth_r-Earth_Radius)} м над уровнем моря\")\n",
    "\n",
    "Satellite_area = sector_area(Earth_Radius, Earth_r)\n",
    "Earth_area = sphere_area(Earth_Radius)\n",
    "print(f\"\\nПлощать поверхности Земли: {round(Earth_area/1000000)} км^2\")\n",
    "print(f\"Площать поверхности сектора: {round(Satellite_area/1000000)} км^2\")\n",
    "print(f\"Отношение поверхности планеты к поверхности сектора: {round(Earth_area/Satellite_area, 2)}\")\n",
    "print(f\"Для покрытия земной поверхности требуется {math.floor(Earth_area/Satellite_area)+1} спутника\")"
   ]
  },
  {
   "cell_type": "markdown",
   "id": "b926fec6",
   "metadata": {},
   "source": [
    "## Расчет высоты геостационарного спутника Марса"
   ]
  },
  {
   "cell_type": "code",
   "execution_count": 4,
   "id": "2b30dadf",
   "metadata": {},
   "outputs": [
    {
     "name": "stdout",
     "output_type": "stream",
     "text": [
      "Радиус геостационарного спутника Марса: 20424957 м\n",
      "Высота геостационарного спутника Марса: 17037957 м над уровнем моря\n",
      "\n",
      "Площать поверхности Марса: 144085419 км^2\n",
      "Площать поверхности сектора: 60096116 км^2\n",
      "Отношение поверхности планеты к поверхности сектора: 2.4\n",
      "Для покрытия поверхности Марса требуется 3 спутника\n"
     ]
    }
   ],
   "source": [
    "Mars_Radius = 3387 * 1000       # m\n",
    "Mars_g = 3.73                   # m/s^2\n",
    "Mars_T = (24 * 60 + 37) * 60    # sec\n",
    "\n",
    "Mars_r = satellite_altitude(Mars_Radius, Mars_g, Mars_T)\n",
    "print(f\"Радиус геостационарного спутника Марса: {round(Mars_r)} м\")\n",
    "print(f\"Высота геостационарного спутника Марса: {round(Mars_r-Mars_Radius)} м над уровнем моря\")\n",
    "\n",
    "Satellite_area = sector_area(Mars_Radius, Mars_r)\n",
    "Mars_area = sphere_area(Mars_Radius)\n",
    "print(f\"\\nПлощать поверхности Марса: {round(Mars_area/1000000)} км^2\")\n",
    "print(f\"Площать поверхности сектора: {round(Satellite_area/1000000)} км^2\")\n",
    "print(f\"Отношение поверхности планеты к поверхности сектора: {round(Mars_area/Satellite_area, 2)}\")\n",
    "print(f\"Для покрытия поверхности Марса требуется {math.floor(Mars_area/Satellite_area)+1} спутника\")"
   ]
  },
  {
   "cell_type": "markdown",
   "id": "29575d84",
   "metadata": {},
   "source": [
    "## Расчет высоты геостационарного спутника Венеры"
   ]
  },
  {
   "cell_type": "code",
   "execution_count": 5,
   "id": "ce1d23d0",
   "metadata": {},
   "outputs": [
    {
     "name": "stdout",
     "output_type": "stream",
     "text": [
      "Радиус геостационарного спутника Венеры: 1536854985 м\n",
      "Высота геостационарного спутника Венеры: 1530803985 м над уровнем моря\n",
      "\n",
      "Площать поверхности Венеры: 459879389 км^2\n",
      "Площать поверхности сектора: 229034362 км^2\n",
      "Отношение поверхности планеты к поверхности сектора: 2.01\n",
      "Для покрытия поверхности Венеры требуется 3 спутника\n"
     ]
    }
   ],
   "source": [
    "Venus_Radius = 6051 * 1000      # m\n",
    "Venus_g = 8.87                  # m/s^2\n",
    "Venus_T = 243 * 24 * 60 * 60    # sec\n",
    "\n",
    "Venus_r = satellite_altitude(Venus_Radius, Venus_g, Venus_T)\n",
    "print(f\"Радиус геостационарного спутника Венеры: {round(Venus_r)} м\")\n",
    "print(f\"Высота геостационарного спутника Венеры: {round(Venus_r-Venus_Radius)} м над уровнем моря\")\n",
    "\n",
    "Satellite_area = sector_area(Venus_Radius, Venus_r)\n",
    "Venus_area = sphere_area(Venus_Radius)\n",
    "print(f\"\\nПлощать поверхности Венеры: {round(Venus_area/1000000)} км^2\")\n",
    "print(f\"Площать поверхности сектора: {round(Satellite_area/1000000)} км^2\")\n",
    "print(f\"Отношение поверхности планеты к поверхности сектора: {round(Venus_area/Satellite_area, 2)}\")\n",
    "print(f\"Для покрытия поверхности Венеры требуется {math.floor(Venus_area/Satellite_area)+1} спутника\")"
   ]
  }
 ],
 "metadata": {
  "kernelspec": {
   "display_name": "Python 3 (ipykernel)",
   "language": "python",
   "name": "python3"
  },
  "language_info": {
   "codemirror_mode": {
    "name": "ipython",
    "version": 3
   },
   "file_extension": ".py",
   "mimetype": "text/x-python",
   "name": "python",
   "nbconvert_exporter": "python",
   "pygments_lexer": "ipython3",
   "version": "3.11.2"
  }
 },
 "nbformat": 4,
 "nbformat_minor": 5
}
