{
 "cells": [
  {
   "cell_type": "markdown",
   "id": "22c0c6ee",
   "metadata": {},
   "source": [
    "## 1.1.1 Пример\n",
    "Рассмотрим программу обучения персептрона на языке Python. Сначала\n",
    "рассмотрим основной класс персептрона, который умеет учиться по\n",
    "тестовым данным."
   ]
  },
  {
   "cell_type": "code",
   "execution_count": 109,
   "id": "7f331125",
   "metadata": {},
   "outputs": [
    {
     "name": "stdout",
     "output_type": "stream",
     "text": [
      "[0.1, -0.1]\n",
      "-1\n",
      "1\n",
      "1\n",
      "-1\n"
     ]
    }
   ],
   "source": [
    "# класс, который реализует персептрон и его обучение\n",
    "class Perceptron:\n",
    "    def __init__(self, N):\n",
    "        # создать нулевые веса\n",
    "        self.w = list()\n",
    "        for i in range(N):\n",
    "            self.w.append(0)\n",
    "    # метод для вычисления значения персептрона\n",
    "    def calc(self, x):\n",
    "        res = 0\n",
    "        for i in range(len(self.w)):\n",
    "            res = res + self.w[i]*x[i]\n",
    "        return res\n",
    "    # пороговая функция активации персептрона\n",
    "    def sign(self, x):\n",
    "        if self.calc(x) > 0:\n",
    "            return 1\n",
    "        else:\n",
    "            return -1\n",
    "    # обучение на одном примере\n",
    "    def learn(self, la, x, y):\n",
    "        # обучаем только, когда результат неверный\n",
    "        if y * self.calc(x) <= 0:\n",
    "            for i in range(len(self.w)):\n",
    "                self.w[i] = self.w[i] + la * y * x[i]\n",
    "    # обучение по всем данным T - кортеж примеров\n",
    "    def learning(self, la, T):\n",
    "        # цикл обучения\n",
    "        for n in range(100):\n",
    "            # обучение по всему набору примеров\n",
    "            for t in T:\n",
    "                self.learn(la, t[0], t[1])\n",
    "                \n",
    "# создаем класс двумерного персептрона\n",
    "perceptron = Perceptron(2)\n",
    "la = 0.1 # константа обучения\n",
    "# создаем примеры\n",
    "T = list()\n",
    "T.append([[2,1],1])\n",
    "T.append([[3,2],1])\n",
    "T.append([[4,1],1])\n",
    "T.append([[1,2],-1])\n",
    "T.append([[2,3],-1])\n",
    "T.append([[5,7],-1])\n",
    "perceptron.learning(la, T) # обучение персептрона\n",
    "print(perceptron.w) #печатаем веса\n",
    "# проверим работу на тестовых примерах\n",
    "print(perceptron.sign([1.5, 2]))\n",
    "print(perceptron.sign([3, 1.5]))\n",
    "print(perceptron.sign([5, 1]))\n",
    "print(perceptron.sign([5, 10]))"
   ]
  },
  {
   "cell_type": "markdown",
   "id": "6cc64042",
   "metadata": {},
   "source": [
    "## 1.1.2 Пример\n",
    "Для написания кода нейрона будем использовать библиотеку Pytnon\n",
    "— NumPy:"
   ]
  },
  {
   "cell_type": "code",
   "execution_count": 110,
   "id": "6f602b76",
   "metadata": {},
   "outputs": [
    {
     "name": "stdout",
     "output_type": "stream",
     "text": [
      "0.9990889488055994\n"
     ]
    }
   ],
   "source": [
    "import numpy as np\n",
    "def sigmoid(x):\n",
    "    # Функция активации: f(x) = 1 / (1 + e^(-x))\n",
    "    return 1 / (1 + np.exp(-x))\n",
    "class Neuron:\n",
    "    def __init__(self, weights, bias):\n",
    "        self.weights = weights\n",
    "        self.bias = bias\n",
    "    def feedforward(self, inputs):\n",
    "        total = np.dot(self.weights, inputs) + self.bias\n",
    "        return sigmoid(total)\n",
    "    \n",
    "weights = np.array([0, 1]) # w1 = 0, w2 = 1\n",
    "bias = 4                   # c = 4\n",
    "n = Neuron(weights, bias)\n",
    "x = np.array([2, 3])       # x = 2, y = 3\n",
    "print(n.feedforward(x))    # 0.9990889488055994"
   ]
  },
  {
   "cell_type": "code",
   "execution_count": 111,
   "id": "db4c2e18",
   "metadata": {},
   "outputs": [
    {
     "name": "stdout",
     "output_type": "stream",
     "text": [
      "0.7216325609518421\n"
     ]
    }
   ],
   "source": [
    "import numpy as np\n",
    "class OurNeuralNetwork:\n",
    "    '''\n",
    "    Данные нейросети:\n",
    "    - два входа\n",
    "    - два нейрона в скрытых слоях (h1, h2)\n",
    "    - выход(o1)\n",
    "    Нейроны имеют идентичные веса и пороги:\n",
    "    - w = [0, 1]\n",
    "    - b = 0\n",
    "    '''\n",
    "    def __init__(self):\n",
    "        weights = np.array([0, 1])\n",
    "        bias = 0\n",
    "        # Класс Neuron из предыдущего раздела\n",
    "        self.h1 = Neuron(weights, bias)\n",
    "        self.h2 = Neuron(weights, bias)        \n",
    "        self.o1 = Neuron(weights, bias)        \n",
    "    def feedforward(self, x):\n",
    "        out_h1 = self.h1.feedforward(x)\n",
    "        out_h2 = self.h2.feedforward(x)        \n",
    "        # Входы для o1 - это выходы h1 и h2\n",
    "        out_o1 = self.o1.feedforward(np.array([out_h1, out_h2]))\n",
    "        return out_o1\n",
    "\n",
    "network = OurNeuralNetwork()\n",
    "x = np.array([2, 3])\n",
    "print(network.feedforward(x)) # 0.7216325609518421"
   ]
  },
  {
   "cell_type": "markdown",
   "id": "9c252d5f",
   "metadata": {},
   "source": [
    "## Теоретический материал – Обучение нейронной сети"
   ]
  },
  {
   "cell_type": "code",
   "execution_count": 112,
   "id": "7bb1825b",
   "metadata": {},
   "outputs": [],
   "source": [
    "class NeuralNetwork:\n",
    "    def __init__(self, x, y):\n",
    "        self.input     = x\n",
    "        self.weights1  = np.random.rand(self.input.shape[1], 4)\n",
    "        self.weights2  = np.random.rand(4, 1)\n",
    "        self.y         = y\n",
    "        self.output    = np.zeros(self.y.shape)\n",
    "    def feedforward(self):\n",
    "        self.layer1 = sigmoid(np.dot(self.input, self_weights1))\n",
    "        self.output = sigmoid(np.dot(self.layer1, self_weights2))\n",
    "    def backprop(self):\n",
    "        # применение правила цепи для нахождения производной функции потерь по весу2 и весу1\n",
    "        d_weights2 = np.dot(self.layer1.T, (2*(self.y - self.output) * sigmoid_derivative(self_control)))\n",
    "        d_weights1 = np.dot(self.input.T, (np.dot(2*(self.y - self.output) * sigmoid_derivative(self.output), self.weights2.T) * sigmoid_derivative(self.layer1)))\n",
    "        \n",
    "        # обновление веса произвольной (наклона) функции теперь:,\n",
    "        self.weights1 += d_weights1\n",
    "        self.weights2 += d_weights2\n",
    "        "
   ]
  },
  {
   "cell_type": "markdown",
   "id": "6dde97b3",
   "metadata": {},
   "source": [
    "Задание:\n",
    "Реализовать классы нейросетей по аналогии с классом OurNeuralNetwork.\n",
    "Данные нейросети:\n",
    "− три входа (𝑥1, 𝑥2, 𝑥3\n",
    ");\n",
    "− три нейрона в скрытых слоях (ℎ1, ℎ2, ℎ3);\n",
    "− выход (𝑜1).\n",
    "Нейроны имеют идентичные веса и пороги:\n",
    "− 𝑤 = [0.5, 0.5, 0.5]\n",
    "− 𝑏 = 0\n",
    "Данные нейросети:\n",
    "− два входа (𝑥1, 𝑥2);\n",
    "− два нейрона в скрытых слоях (ℎ1, ℎ2);\n",
    "− два выхода (𝑜1, 𝑜2\n",
    ").\n",
    "Нейроны имеют идентичные веса и пороги:\n",
    "− 𝑤 = [1, 0];\n",
    "− 𝑏 = 1.\n"
   ]
  },
  {
   "cell_type": "code",
   "execution_count": 12,
   "id": "ee4298bb",
   "metadata": {},
   "outputs": [
    {
     "name": "stdout",
     "output_type": "stream",
     "text": [
      "0.8067238139969796\n",
      "[0.8757270529783324, 0.8757270529783324]\n"
     ]
    }
   ],
   "source": [
    "# Нейросеть 1\n",
    "import numpy as np\n",
    "def sigmoid(x):\n",
    "    # Функция активации: f(x) = 1 / (1 + e^(-x))\n",
    "    return 1 / (1 + np.exp(-x))\n",
    "class Neuron1:\n",
    "    def __init__(self, weights, bias):\n",
    "        self.weights = weights\n",
    "        self.bias = bias\n",
    "    def feedforward(self, inputs):\n",
    "        #print(self.weights, inputs)\n",
    "        total = np.dot(self.weights, inputs) + self.bias\n",
    "        return sigmoid(total)\n",
    "    \n",
    "weights = np.array([0.5, 0.5, 0.5])\n",
    "bias = 0\n",
    "\n",
    "class NeuralNetwork1:\n",
    "    '''\n",
    "    Данные нейросети:\n",
    "    - три входа\n",
    "    - три нейрона в скрытых слоях (h1, h2, h3)\n",
    "    - выход(o1)\n",
    "    Нейроны имеют идентичные веса и пороги:\n",
    "    - w = [0.5, 0.5, 0.5]\n",
    "    - b = 0\n",
    "    '''\n",
    "    def __init__(self):\n",
    "        weights = np.array([0.5, 0.5, 0.5])\n",
    "        bias = 0\n",
    "        # Класс Neuron из предыдущего раздела\n",
    "        self.h1 = Neuron(weights, bias)\n",
    "        self.h2 = Neuron(weights, bias)\n",
    "        self.h3 = Neuron(weights, bias)\n",
    "        self.o1 = Neuron(weights, bias)\n",
    "    def feedforward(self, x):\n",
    "        out_h1 = self.h1.feedforward(x)\n",
    "        out_h2 = self.h2.feedforward(x)   \n",
    "        out_h3 = self.h3.feedforward(x)\n",
    "        # Входы для o1 и o2 - это выходы h1, h2, и h3\n",
    "        out_o1 = self.o1.feedforward(np.array([out_h1, out_h2, out_h3]))\n",
    "        return out_o1\n",
    "\n",
    "network = NeuralNetwork1()\n",
    "x = np.array([1, 2, 3])\n",
    "print(network.feedforward(x)) # 0.8067238139969796\n",
    "\n",
    "\n",
    "# Нейросеть 2\n",
    "class Neuron2:\n",
    "    def __init__(self, weights, bias):\n",
    "        self.weights = weights\n",
    "        self.bias = bias\n",
    "    def feedforward(self, inputs):\n",
    "        #print(self.weights, inputs)\n",
    "        total = np.dot(self.weights, inputs) + self.bias\n",
    "        return sigmoid(total)\n",
    "    \n",
    "weights = np.array([1, 0])\n",
    "bias = 1\n",
    "\n",
    "class NeuralNetwork2:\n",
    "    '''\n",
    "    Данные нейросети:\n",
    "    - два входа\n",
    "    - два нейрона в скрытых слоях (h1, h2)\n",
    "    - два выхода (o1, o2)\n",
    "    Нейроны имеют идентичные веса и пороги:\n",
    "    - w = [1, 0]\n",
    "    - b = 1\n",
    "    '''\n",
    "    def __init__(self):\n",
    "        weights = np.array([1, 0])\n",
    "        bias = 1\n",
    "        # Класс Neuron из предыдущего раздела\n",
    "        self.h1 = Neuron(weights, bias)\n",
    "        self.h2 = Neuron(weights, bias)\n",
    "        self.o1 = Neuron(weights, bias)\n",
    "        self.o2 = Neuron(weights, bias)\n",
    "    def feedforward(self, x):\n",
    "        out_h1 = self.h1.feedforward(x)\n",
    "        out_h2 = self.h2.feedforward(x)   \n",
    "        # Входы для o1 и o2 - это выходы h1, h2, и h3\n",
    "        out_o1 = self.o1.feedforward(np.array([out_h1, out_h2]))\n",
    "        out_o2 = self.o1.feedforward(np.array([out_h1, out_h2]))\n",
    "        return [out_o1, out_o2]\n",
    "\n",
    "network = NeuralNetwork2()\n",
    "x = np.array([2, 3])\n",
    "print(network.feedforward(x)) #[0.8757270529783324, 0.8757270529783324]"
   ]
  },
  {
   "cell_type": "markdown",
   "id": "fb8b0fbc",
   "metadata": {},
   "source": [
    "Задание:\n",
    "Реализуйте классы нейронных сетей с использованием других функций\n",
    "активации."
   ]
  },
  {
   "cell_type": "code",
   "execution_count": 13,
   "id": "85e99355",
   "metadata": {},
   "outputs": [
    {
     "name": "stdout",
     "output_type": "stream",
     "text": [
      "906756.1301305611\n"
     ]
    }
   ],
   "source": [
    "import numpy as np\n",
    "def sigmoid(x):\n",
    "    # Функция активации: f(x) = x*x / (1 + np.cos(x)) - 3\n",
    "    return x*x / (1 + np.cos(x)) - 3\n",
    "class Neuron1:\n",
    "    def __init__(self, weights, bias):\n",
    "        self.weights = weights\n",
    "        self.bias = bias\n",
    "    def feedforward(self, inputs):\n",
    "        #print(self.weights, inputs)\n",
    "        total = np.dot(self.weights, inputs) + self.bias\n",
    "        return sigmoid(total)\n",
    "    \n",
    "weights = np.array([0.5, 0.5, 0.5])\n",
    "bias = 0\n",
    "\n",
    "class NeuralNetwork1:\n",
    "    '''\n",
    "    Данные нейросети:\n",
    "    - три входа\n",
    "    - три нейрона в скрытых слоях (h1, h2, h3)\n",
    "    - выход(o1)\n",
    "    Нейроны имеют идентичные веса и пороги:\n",
    "    - w = [0.5, 0.5, 0.5]\n",
    "    - b = 0\n",
    "    '''\n",
    "    def __init__(self):\n",
    "        weights = np.array([0.5, 0.5, 0.5])\n",
    "        bias = 0\n",
    "        # Класс Neuron из предыдущего раздела\n",
    "        self.h1 = Neuron(weights, bias)\n",
    "        self.h2 = Neuron(weights, bias)\n",
    "        self.h3 = Neuron(weights, bias)\n",
    "        self.o1 = Neuron(weights, bias)\n",
    "    def feedforward(self, x):\n",
    "        out_h1 = self.h1.feedforward(x)\n",
    "        out_h2 = self.h2.feedforward(x)   \n",
    "        out_h3 = self.h3.feedforward(x)\n",
    "        # Входы для o1 и o2 - это выходы h1, h2, и h3\n",
    "        out_o1 = self.o1.feedforward(np.array([out_h1, out_h2, out_h3]))\n",
    "        return out_o1\n",
    "\n",
    "network = NeuralNetwork1()\n",
    "x = np.array([1, 2, 3])\n",
    "print(network.feedforward(x)) # 906756.1301305611"
   ]
  },
  {
   "cell_type": "markdown",
   "id": "cbab2241",
   "metadata": {},
   "source": [
    "## 1.2. MLPClassifier"
   ]
  },
  {
   "cell_type": "code",
   "execution_count": 113,
   "id": "5c2bfa62",
   "metadata": {},
   "outputs": [
    {
     "name": "stdout",
     "output_type": "stream",
     "text": [
      "             0      1      2    3      4      5     6       7    8      9   \\\n",
      "0       0.00632  18.00   2.31  0.0  0.538  6.575  65.2  4.0900  1.0  296.0   \n",
      "1     396.90000   4.98  24.00  NaN    NaN    NaN   NaN     NaN  NaN    NaN   \n",
      "2       0.02731   0.00   7.07  0.0  0.469  6.421  78.9  4.9671  2.0  242.0   \n",
      "3     396.90000   9.14  21.60  NaN    NaN    NaN   NaN     NaN  NaN    NaN   \n",
      "4       0.02729   0.00   7.07  0.0  0.469  7.185  61.1  4.9671  2.0  242.0   \n",
      "...         ...    ...    ...  ...    ...    ...   ...     ...  ...    ...   \n",
      "1007  396.90000   5.64  23.90  NaN    NaN    NaN   NaN     NaN  NaN    NaN   \n",
      "1008    0.10959   0.00  11.93  0.0  0.573  6.794  89.3  2.3889  1.0  273.0   \n",
      "1009  393.45000   6.48  22.00  NaN    NaN    NaN   NaN     NaN  NaN    NaN   \n",
      "1010    0.04741   0.00  11.93  0.0  0.573  6.030  80.8  2.5050  1.0  273.0   \n",
      "1011  396.90000   7.88  11.90  NaN    NaN    NaN   NaN     NaN  NaN    NaN   \n",
      "\n",
      "        10  \n",
      "0     15.3  \n",
      "1      NaN  \n",
      "2     17.8  \n",
      "3      NaN  \n",
      "4     17.8  \n",
      "...    ...  \n",
      "1007   NaN  \n",
      "1008  21.0  \n",
      "1009   NaN  \n",
      "1010  21.0  \n",
      "1011   NaN  \n",
      "\n",
      "[1012 rows x 11 columns]\n",
      "Dataset Sizes :  (1797, 64) (1797,)\n",
      "Dataset Sizes :  (506, 13) (506,)\n"
     ]
    }
   ],
   "source": [
    "import numpy as np\n",
    "import pandas as pd\n",
    "import matplotlib.pyplot as plt\n",
    "\n",
    "import sklearn\n",
    "\n",
    "from sklearn.datasets import load_digits # load_boston - отсутствует в данной версии scikit\n",
    "data_url = \"http://lib.stat.cmu.edu/datasets/boston\"\n",
    "raw_df = pd.read_csv(data_url, sep=\"\\s+\", skiprows=22, header=None)\n",
    "\n",
    "print(raw_df)\n",
    "\n",
    "data = np.hstack([raw_df.values[::2, :], raw_df.values[1::2, :2]])\n",
    "target = raw_df.values[1::2, 2]\n",
    "\n",
    "digits = load_digits()\n",
    "X_digits, Y_digits = digits.data, digits.target\n",
    "print('Dataset Sizes : ', X_digits.shape, Y_digits.shape)\n",
    "\n",
    "X_boston, Y_boston = data, target\n",
    "print('Dataset Sizes : ', X_boston.shape, Y_boston.shape)"
   ]
  },
  {
   "cell_type": "code",
   "execution_count": 114,
   "id": "7814d365",
   "metadata": {},
   "outputs": [
    {
     "name": "stdout",
     "output_type": "stream",
     "text": [
      "Train/Test Sizes :  (1437, 64) (360, 64) (1437,) (360,)\n"
     ]
    }
   ],
   "source": [
    "from sklearn.model_selection import train_test_split\n",
    "\n",
    "X_train, X_test, Y_train, Y_test = train_test_split(X_digits, Y_digits, \n",
    "                train_size=0.80, test_size=0.20, stratify=Y_digits, random_state=123)\n",
    "print('Train/Test Sizes : ', X_train.shape, X_test.shape, Y_train.shape, Y_test.shape)"
   ]
  },
  {
   "cell_type": "code",
   "execution_count": 115,
   "id": "211f75e4",
   "metadata": {},
   "outputs": [
    {
     "data": {
      "text/html": [
       "<style>#sk-container-id-13 {color: black;background-color: white;}#sk-container-id-13 pre{padding: 0;}#sk-container-id-13 div.sk-toggleable {background-color: white;}#sk-container-id-13 label.sk-toggleable__label {cursor: pointer;display: block;width: 100%;margin-bottom: 0;padding: 0.3em;box-sizing: border-box;text-align: center;}#sk-container-id-13 label.sk-toggleable__label-arrow:before {content: \"▸\";float: left;margin-right: 0.25em;color: #696969;}#sk-container-id-13 label.sk-toggleable__label-arrow:hover:before {color: black;}#sk-container-id-13 div.sk-estimator:hover label.sk-toggleable__label-arrow:before {color: black;}#sk-container-id-13 div.sk-toggleable__content {max-height: 0;max-width: 0;overflow: hidden;text-align: left;background-color: #f0f8ff;}#sk-container-id-13 div.sk-toggleable__content pre {margin: 0.2em;color: black;border-radius: 0.25em;background-color: #f0f8ff;}#sk-container-id-13 input.sk-toggleable__control:checked~div.sk-toggleable__content {max-height: 200px;max-width: 100%;overflow: auto;}#sk-container-id-13 input.sk-toggleable__control:checked~label.sk-toggleable__label-arrow:before {content: \"▾\";}#sk-container-id-13 div.sk-estimator input.sk-toggleable__control:checked~label.sk-toggleable__label {background-color: #d4ebff;}#sk-container-id-13 div.sk-label input.sk-toggleable__control:checked~label.sk-toggleable__label {background-color: #d4ebff;}#sk-container-id-13 input.sk-hidden--visually {border: 0;clip: rect(1px 1px 1px 1px);clip: rect(1px, 1px, 1px, 1px);height: 1px;margin: -1px;overflow: hidden;padding: 0;position: absolute;width: 1px;}#sk-container-id-13 div.sk-estimator {font-family: monospace;background-color: #f0f8ff;border: 1px dotted black;border-radius: 0.25em;box-sizing: border-box;margin-bottom: 0.5em;}#sk-container-id-13 div.sk-estimator:hover {background-color: #d4ebff;}#sk-container-id-13 div.sk-parallel-item::after {content: \"\";width: 100%;border-bottom: 1px solid gray;flex-grow: 1;}#sk-container-id-13 div.sk-label:hover label.sk-toggleable__label {background-color: #d4ebff;}#sk-container-id-13 div.sk-serial::before {content: \"\";position: absolute;border-left: 1px solid gray;box-sizing: border-box;top: 0;bottom: 0;left: 50%;z-index: 0;}#sk-container-id-13 div.sk-serial {display: flex;flex-direction: column;align-items: center;background-color: white;padding-right: 0.2em;padding-left: 0.2em;position: relative;}#sk-container-id-13 div.sk-item {position: relative;z-index: 1;}#sk-container-id-13 div.sk-parallel {display: flex;align-items: stretch;justify-content: center;background-color: white;position: relative;}#sk-container-id-13 div.sk-item::before, #sk-container-id-13 div.sk-parallel-item::before {content: \"\";position: absolute;border-left: 1px solid gray;box-sizing: border-box;top: 0;bottom: 0;left: 50%;z-index: -1;}#sk-container-id-13 div.sk-parallel-item {display: flex;flex-direction: column;z-index: 1;position: relative;background-color: white;}#sk-container-id-13 div.sk-parallel-item:first-child::after {align-self: flex-end;width: 50%;}#sk-container-id-13 div.sk-parallel-item:last-child::after {align-self: flex-start;width: 50%;}#sk-container-id-13 div.sk-parallel-item:only-child::after {width: 0;}#sk-container-id-13 div.sk-dashed-wrapped {border: 1px dashed gray;margin: 0 0.4em 0.5em 0.4em;box-sizing: border-box;padding-bottom: 0.4em;background-color: white;}#sk-container-id-13 div.sk-label label {font-family: monospace;font-weight: bold;display: inline-block;line-height: 1.2em;}#sk-container-id-13 div.sk-label-container {text-align: center;}#sk-container-id-13 div.sk-container {/* jupyter's `normalize.less` sets `[hidden] { display: none; }` but bootstrap.min.css set `[hidden] { display: none !important; }` so we also need the `!important` here to be able to override the default hidden behavior on the sphinx rendered scikit-learn.org. See: https://github.com/scikit-learn/scikit-learn/issues/21755 */display: inline-block !important;position: relative;}#sk-container-id-13 div.sk-text-repr-fallback {display: none;}</style><div id=\"sk-container-id-13\" class=\"sk-top-container\"><div class=\"sk-text-repr-fallback\"><pre>MLPClassifier(random_state=123)</pre><b>In a Jupyter environment, please rerun this cell to show the HTML representation or trust the notebook. <br />On GitHub, the HTML representation is unable to render, please try loading this page with nbviewer.org.</b></div><div class=\"sk-container\" hidden><div class=\"sk-item\"><div class=\"sk-estimator sk-toggleable\"><input class=\"sk-toggleable__control sk-hidden--visually\" id=\"sk-estimator-id-13\" type=\"checkbox\" checked><label for=\"sk-estimator-id-13\" class=\"sk-toggleable__label sk-toggleable__label-arrow\">MLPClassifier</label><div class=\"sk-toggleable__content\"><pre>MLPClassifier(random_state=123)</pre></div></div></div></div></div>"
      ],
      "text/plain": [
       "MLPClassifier(random_state=123)"
      ]
     },
     "execution_count": 115,
     "metadata": {},
     "output_type": "execute_result"
    }
   ],
   "source": [
    "from sklearn.neural_network import MLPClassifier\n",
    "\n",
    "mlp_classifier = MLPClassifier(random_state=123)\n",
    "mlp_classifier.fit(X_train, Y_train)"
   ]
  },
  {
   "cell_type": "code",
   "execution_count": 116,
   "id": "5ad1ddb3",
   "metadata": {},
   "outputs": [
    {
     "name": "stdout",
     "output_type": "stream",
     "text": [
      "[5 9 9 6 1 6 6 9 8 7 4 2 1 4 3]\n",
      "[5 9 9 6 1 6 6 9 8 7 4 2 1 4 3]\n",
      "Test Accuracy : 0.983\n",
      "Training Accuracy : 1.000\n"
     ]
    }
   ],
   "source": [
    "Y_preds = mlp_classifier.predict(X_test)\n",
    "\n",
    "print(Y_preds[:15])\n",
    "print(Y_test[:15])\n",
    "## Метод Score для оценки точности моделей классификации\n",
    "print('Test Accuracy : %.3f'%mlp_classifier.score(X_test, Y_test))\n",
    "\n",
    "print('Training Accuracy : %.3f'%mlp_classifier.score(X_train, Y_train))"
   ]
  },
  {
   "cell_type": "code",
   "execution_count": 117,
   "id": "4348f6c8",
   "metadata": {},
   "outputs": [
    {
     "data": {
      "image/png": "[encoded data removed]",
      "text/plain": [
       "<Figure size 600x600 with 2 Axes>"
      ]
     },
     "metadata": {},
     "output_type": "display_data"
    }
   ],
   "source": [
    "from sklearn.metrics import confusion_matrix\n",
    "\n",
    "def plot_confusion_matrix(Y_test, Y_preds):\n",
    "    conf_mat = confusion_matrix(Y_test, Y_preds)\n",
    "    #print(conf mat)\n",
    "    fig = plt.figure(figsize=(6,6))\n",
    "    plt.matshow(conf_mat, cmap = plt.cm.Blues, fignum=1)\n",
    "    plt.yticks(range(10), range(10))\n",
    "    plt.xticks(range(10), range(10))\n",
    "    plt.colorbar();\n",
    "    for i in range(10):\n",
    "        for j in range(10):\n",
    "            plt.text(i-0.2, j+0.1, str(conf_mat[j, i]), color='tab:red')\n",
    "            \n",
    "plot_confusion_matrix(Y_test, mlp_classifier.predict(X_test))"
   ]
  },
  {
   "cell_type": "code",
   "execution_count": 118,
   "id": "1afe69bc",
   "metadata": {},
   "outputs": [
    {
     "name": "stdout",
     "output_type": "stream",
     "text": [
      "Loss :  0.003472868499418059\n",
      "Number of Coefs :  2\n",
      "Number of Intercepts :  2\n",
      "Number of Iterations for Which Estimator Ran :  125\n",
      "Name of Output Layer Activation Function :  softmax\n"
     ]
    }
   ],
   "source": [
    "print(\"Loss : \", mlp_classifier.loss_)\n",
    "print(\"Number of Coefs : \", len(mlp_classifier.coefs_))\n",
    "print(\"Number of Intercepts : \", len(mlp_classifier.intercepts_))\n",
    "print(\"Number of Iterations for Which Estimator Ran : \", mlp_classifier.n_iter_)\n",
    "print(\"Name of Output Layer Activation Function : \", mlp_classifier.out_activation_)"
   ]
  },
  {
   "cell_type": "markdown",
   "id": "dda42e46",
   "metadata": {},
   "source": [
    "## MLPRegressor"
   ]
  },
  {
   "cell_type": "code",
   "execution_count": 119,
   "id": "cc72d338",
   "metadata": {},
   "outputs": [
    {
     "name": "stdout",
     "output_type": "stream",
     "text": [
      "Train/Test Sizes :  (404, 13) (102, 13) (404,) (102,)\n"
     ]
    }
   ],
   "source": [
    "X_train, X_test, Y_train, Y_test = train_test_split(X_boston, Y_boston, train_size=0.80, test_size=0.20, random_state=123)\n",
    "print('Train/Test Sizes : ', X_train.shape, X_test.shape, Y_train.shape, Y_test.shape)"
   ]
  },
  {
   "cell_type": "code",
   "execution_count": 120,
   "id": "b2e6498e",
   "metadata": {},
   "outputs": [
    {
     "data": {
      "text/html": [
       "<style>#sk-container-id-14 {color: black;background-color: white;}#sk-container-id-14 pre{padding: 0;}#sk-container-id-14 div.sk-toggleable {background-color: white;}#sk-container-id-14 label.sk-toggleable__label {cursor: pointer;display: block;width: 100%;margin-bottom: 0;padding: 0.3em;box-sizing: border-box;text-align: center;}#sk-container-id-14 label.sk-toggleable__label-arrow:before {content: \"▸\";float: left;margin-right: 0.25em;color: #696969;}#sk-container-id-14 label.sk-toggleable__label-arrow:hover:before {color: black;}#sk-container-id-14 div.sk-estimator:hover label.sk-toggleable__label-arrow:before {color: black;}#sk-container-id-14 div.sk-toggleable__content {max-height: 0;max-width: 0;overflow: hidden;text-align: left;background-color: #f0f8ff;}#sk-container-id-14 div.sk-toggleable__content pre {margin: 0.2em;color: black;border-radius: 0.25em;background-color: #f0f8ff;}#sk-container-id-14 input.sk-toggleable__control:checked~div.sk-toggleable__content {max-height: 200px;max-width: 100%;overflow: auto;}#sk-container-id-14 input.sk-toggleable__control:checked~label.sk-toggleable__label-arrow:before {content: \"▾\";}#sk-container-id-14 div.sk-estimator input.sk-toggleable__control:checked~label.sk-toggleable__label {background-color: #d4ebff;}#sk-container-id-14 div.sk-label input.sk-toggleable__control:checked~label.sk-toggleable__label {background-color: #d4ebff;}#sk-container-id-14 input.sk-hidden--visually {border: 0;clip: rect(1px 1px 1px 1px);clip: rect(1px, 1px, 1px, 1px);height: 1px;margin: -1px;overflow: hidden;padding: 0;position: absolute;width: 1px;}#sk-container-id-14 div.sk-estimator {font-family: monospace;background-color: #f0f8ff;border: 1px dotted black;border-radius: 0.25em;box-sizing: border-box;margin-bottom: 0.5em;}#sk-container-id-14 div.sk-estimator:hover {background-color: #d4ebff;}#sk-container-id-14 div.sk-parallel-item::after {content: \"\";width: 100%;border-bottom: 1px solid gray;flex-grow: 1;}#sk-container-id-14 div.sk-label:hover label.sk-toggleable__label {background-color: #d4ebff;}#sk-container-id-14 div.sk-serial::before {content: \"\";position: absolute;border-left: 1px solid gray;box-sizing: border-box;top: 0;bottom: 0;left: 50%;z-index: 0;}#sk-container-id-14 div.sk-serial {display: flex;flex-direction: column;align-items: center;background-color: white;padding-right: 0.2em;padding-left: 0.2em;position: relative;}#sk-container-id-14 div.sk-item {position: relative;z-index: 1;}#sk-container-id-14 div.sk-parallel {display: flex;align-items: stretch;justify-content: center;background-color: white;position: relative;}#sk-container-id-14 div.sk-item::before, #sk-container-id-14 div.sk-parallel-item::before {content: \"\";position: absolute;border-left: 1px solid gray;box-sizing: border-box;top: 0;bottom: 0;left: 50%;z-index: -1;}#sk-container-id-14 div.sk-parallel-item {display: flex;flex-direction: column;z-index: 1;position: relative;background-color: white;}#sk-container-id-14 div.sk-parallel-item:first-child::after {align-self: flex-end;width: 50%;}#sk-container-id-14 div.sk-parallel-item:last-child::after {align-self: flex-start;width: 50%;}#sk-container-id-14 div.sk-parallel-item:only-child::after {width: 0;}#sk-container-id-14 div.sk-dashed-wrapped {border: 1px dashed gray;margin: 0 0.4em 0.5em 0.4em;box-sizing: border-box;padding-bottom: 0.4em;background-color: white;}#sk-container-id-14 div.sk-label label {font-family: monospace;font-weight: bold;display: inline-block;line-height: 1.2em;}#sk-container-id-14 div.sk-label-container {text-align: center;}#sk-container-id-14 div.sk-container {/* jupyter's `normalize.less` sets `[hidden] { display: none; }` but bootstrap.min.css set `[hidden] { display: none !important; }` so we also need the `!important` here to be able to override the default hidden behavior on the sphinx rendered scikit-learn.org. See: https://github.com/scikit-learn/scikit-learn/issues/21755 */display: inline-block !important;position: relative;}#sk-container-id-14 div.sk-text-repr-fallback {display: none;}</style><div id=\"sk-container-id-14\" class=\"sk-top-container\"><div class=\"sk-text-repr-fallback\"><pre>MLPRegressor(random_state=123)</pre><b>In a Jupyter environment, please rerun this cell to show the HTML representation or trust the notebook. <br />On GitHub, the HTML representation is unable to render, please try loading this page with nbviewer.org.</b></div><div class=\"sk-container\" hidden><div class=\"sk-item\"><div class=\"sk-estimator sk-toggleable\"><input class=\"sk-toggleable__control sk-hidden--visually\" id=\"sk-estimator-id-14\" type=\"checkbox\" checked><label for=\"sk-estimator-id-14\" class=\"sk-toggleable__label sk-toggleable__label-arrow\">MLPRegressor</label><div class=\"sk-toggleable__content\"><pre>MLPRegressor(random_state=123)</pre></div></div></div></div></div>"
      ],
      "text/plain": [
       "MLPRegressor(random_state=123)"
      ]
     },
     "execution_count": 120,
     "metadata": {},
     "output_type": "execute_result"
    }
   ],
   "source": [
    "from sklearn.neural_network import MLPRegressor\n",
    "\n",
    "mlp_regressor = MLPRegressor(random_state=123)\n",
    "mlp_regressor.fit(X_train, Y_train)"
   ]
  },
  {
   "cell_type": "code",
   "execution_count": 121,
   "id": "b87457aa",
   "metadata": {},
   "outputs": [
    {
     "name": "stdout",
     "output_type": "stream",
     "text": [
      "[ 7.32543601 24.33417853 32.46700507 15.19086054 25.6749167  25.07797685\n",
      " 27.20985668  2.62269853 15.25691994 28.02637784]\n",
      "[15.  26.6 45.4 20.8 34.9 21.9 28.7  7.2 20.  32.2]\n",
      "Test R^2 Score : 0.462\n",
      "Training R^2 Score : 0.510\n"
     ]
    }
   ],
   "source": [
    "Y_preds = mlp_regressor.predict(X_test)\n",
    "\n",
    "print(Y_preds[:10])\n",
    "print(Y_test[:10])\n",
    "## Метод Score оценивает точность моделей классификации.\n",
    "print('Test R^2 Score : %.3f'%mlp_regressor.score(X_test, Y_test))\n",
    "print('Training R^2 Score : %.3f'%mlp_regressor.score(X_train, Y_train))"
   ]
  },
  {
   "cell_type": "code",
   "execution_count": 122,
   "id": "222ada64",
   "metadata": {},
   "outputs": [
    {
     "name": "stdout",
     "output_type": "stream",
     "text": [
      "Loss :  28.538174061119623\n"
     ]
    }
   ],
   "source": [
    "print(\"Loss : \", mlp_regressor.loss_)"
   ]
  },
  {
   "cell_type": "code",
   "execution_count": 123,
   "id": "2f6611de",
   "metadata": {},
   "outputs": [
    {
     "name": "stdout",
     "output_type": "stream",
     "text": [
      "Number of Coefs :  2\n"
     ]
    },
    {
     "data": {
      "text/plain": [
       "[(13, 100), (100, 1)]"
      ]
     },
     "execution_count": 123,
     "metadata": {},
     "output_type": "execute_result"
    }
   ],
   "source": [
    "print(\"Number of Coefs : \", len(mlp_regressor.coefs_))\n",
    "[weights.shape for weights in mlp_regressor.coefs_]"
   ]
  },
  {
   "cell_type": "code",
   "execution_count": 124,
   "id": "0bc98760",
   "metadata": {},
   "outputs": [
    {
     "name": "stdout",
     "output_type": "stream",
     "text": [
      "Number of Iterations for Which Estimator Ran :  130\n"
     ]
    }
   ],
   "source": [
    "print(\"Number of Iterations for Which Estimator Ran : \", mlp_regressor.n_iter_)"
   ]
  },
  {
   "cell_type": "code",
   "execution_count": 125,
   "id": "df8f9047",
   "metadata": {},
   "outputs": [
    {
     "name": "stdout",
     "output_type": "stream",
     "text": [
      "Name of Output Layer Activation Function :  identity\n"
     ]
    }
   ],
   "source": [
    "print(\"Name of Output Layer Activation Function : \", mlp_regressor.out_activation_)"
   ]
  },
  {
   "cell_type": "markdown",
   "id": "ce7c731e",
   "metadata": {},
   "source": [
    "## Задание\n",
    "Используйте классы MLPClassified и MLPRegressor для классификации и\n",
    "регрессии произвольных данных из интернета. Проведите анализ\n",
    "атрибуты, полученных моделей.\n",
    "Для классификации можете взять набор данных Ирисов:\n",
    "https://gist.githubusercontent.com/netj/8836201/raw/6f9306ad21398ea43cba4f\n",
    "7d537619d0e07d5ae3/iris.csv\n",
    "а для регрессии датасет зависимости заработной платы от опыта работы:\n",
    "https://raw.githubusercontent.com/AnnaShestova/salary-years-simple-linearregression/master/Salary_Data.csv"
   ]
  },
  {
   "cell_type": "code",
   "execution_count": 28,
   "id": "61af4dd8",
   "metadata": {},
   "outputs": [
    {
     "data": {
      "text/html": [
       "<div>\n",
       "<style scoped>\n",
       "    .dataframe tbody tr th:only-of-type {\n",
       "        vertical-align: middle;\n",
       "    }\n",
       "\n",
       "    .dataframe tbody tr th {\n",
       "        vertical-align: top;\n",
       "    }\n",
       "\n",
       "    .dataframe thead th {\n",
       "        text-align: right;\n",
       "    }\n",
       "</style>\n",
       "<table border=\"1\" class=\"dataframe\">\n",
       "  <thead>\n",
       "    <tr style=\"text-align: right;\">\n",
       "      <th></th>\n",
       "      <th>sepal_length</th>\n",
       "      <th>sepal_width</th>\n",
       "      <th>petal_length</th>\n",
       "      <th>petal_width</th>\n",
       "      <th>species</th>\n",
       "    </tr>\n",
       "  </thead>\n",
       "  <tbody>\n",
       "    <tr>\n",
       "      <th>0</th>\n",
       "      <td>5.1</td>\n",
       "      <td>3.5</td>\n",
       "      <td>1.4</td>\n",
       "      <td>0.2</td>\n",
       "      <td>setosa</td>\n",
       "    </tr>\n",
       "    <tr>\n",
       "      <th>1</th>\n",
       "      <td>4.9</td>\n",
       "      <td>3.0</td>\n",
       "      <td>1.4</td>\n",
       "      <td>0.2</td>\n",
       "      <td>setosa</td>\n",
       "    </tr>\n",
       "    <tr>\n",
       "      <th>2</th>\n",
       "      <td>4.7</td>\n",
       "      <td>3.2</td>\n",
       "      <td>1.3</td>\n",
       "      <td>0.2</td>\n",
       "      <td>setosa</td>\n",
       "    </tr>\n",
       "    <tr>\n",
       "      <th>3</th>\n",
       "      <td>4.6</td>\n",
       "      <td>3.1</td>\n",
       "      <td>1.5</td>\n",
       "      <td>0.2</td>\n",
       "      <td>setosa</td>\n",
       "    </tr>\n",
       "    <tr>\n",
       "      <th>4</th>\n",
       "      <td>5.0</td>\n",
       "      <td>3.6</td>\n",
       "      <td>1.4</td>\n",
       "      <td>0.2</td>\n",
       "      <td>setosa</td>\n",
       "    </tr>\n",
       "  </tbody>\n",
       "</table>\n",
       "</div>"
      ],
      "text/plain": [
       "   sepal_length  sepal_width  petal_length  petal_width species\n",
       "0           5.1          3.5           1.4          0.2  setosa\n",
       "1           4.9          3.0           1.4          0.2  setosa\n",
       "2           4.7          3.2           1.3          0.2  setosa\n",
       "3           4.6          3.1           1.5          0.2  setosa\n",
       "4           5.0          3.6           1.4          0.2  setosa"
      ]
     },
     "execution_count": 28,
     "metadata": {},
     "output_type": "execute_result"
    },
    {
     "name": "stdout",
     "output_type": "stream",
     "text": [
      "Dataset Sizes :  (150, 4) (150,)\n"
     ]
    }
   ],
   "source": [
    "from IPython.core.interactiveshell import InteractiveShell\n",
    "InteractiveShell.ast_node_interactivity = \"all\"\n",
    "\n",
    "# Классификация\n",
    "import numpy as np\n",
    "import pandas as pd\n",
    "import seaborn as sns\n",
    "import matplotlib.pyplot as plt\n",
    "\n",
    "import sklearn\n",
    "\n",
    "iris = sns.load_dataset('iris')\n",
    "#scale_mapper = {'setosa':1.0, 'versicolor':2.0, 'virginica':3.0}\n",
    "#iris[\"species\"].replace(scale_mapper, inplace=True)\n",
    "\n",
    "iris.head()\n",
    "\n",
    "data = iris.values[:, :4]\n",
    "target = iris.values[:, 4]\n",
    "\n",
    "X_iris, Y_iris = data, target\n",
    "print('Dataset Sizes : ', X_iris.shape, Y_iris.shape)"
   ]
  },
  {
   "cell_type": "code",
   "execution_count": 29,
   "id": "f0154519",
   "metadata": {},
   "outputs": [
    {
     "name": "stdout",
     "output_type": "stream",
     "text": [
      "Train/Test Sizes :  (120, 4) (30, 4) (120,) (30,)\n"
     ]
    }
   ],
   "source": [
    "from sklearn.model_selection import train_test_split\n",
    "\n",
    "X_train, X_test, Y_train, Y_test = train_test_split(iris.iloc[:, :-1],\n",
    "    iris.iloc[:, -1], train_size=0.80, test_size=0.20, random_state=123)\n",
    "print('Train/Test Sizes : ', X_train.shape, X_test.shape, Y_train.shape, Y_test.shape)"
   ]
  },
  {
   "cell_type": "code",
   "execution_count": 30,
   "id": "bc53512b",
   "metadata": {
    "scrolled": true
   },
   "outputs": [
    {
     "data": {
      "text/html": [
       "<style>#sk-container-id-5 {color: black;background-color: white;}#sk-container-id-5 pre{padding: 0;}#sk-container-id-5 div.sk-toggleable {background-color: white;}#sk-container-id-5 label.sk-toggleable__label {cursor: pointer;display: block;width: 100%;margin-bottom: 0;padding: 0.3em;box-sizing: border-box;text-align: center;}#sk-container-id-5 label.sk-toggleable__label-arrow:before {content: \"▸\";float: left;margin-right: 0.25em;color: #696969;}#sk-container-id-5 label.sk-toggleable__label-arrow:hover:before {color: black;}#sk-container-id-5 div.sk-estimator:hover label.sk-toggleable__label-arrow:before {color: black;}#sk-container-id-5 div.sk-toggleable__content {max-height: 0;max-width: 0;overflow: hidden;text-align: left;background-color: #f0f8ff;}#sk-container-id-5 div.sk-toggleable__content pre {margin: 0.2em;color: black;border-radius: 0.25em;background-color: #f0f8ff;}#sk-container-id-5 input.sk-toggleable__control:checked~div.sk-toggleable__content {max-height: 200px;max-width: 100%;overflow: auto;}#sk-container-id-5 input.sk-toggleable__control:checked~label.sk-toggleable__label-arrow:before {content: \"▾\";}#sk-container-id-5 div.sk-estimator input.sk-toggleable__control:checked~label.sk-toggleable__label {background-color: #d4ebff;}#sk-container-id-5 div.sk-label input.sk-toggleable__control:checked~label.sk-toggleable__label {background-color: #d4ebff;}#sk-container-id-5 input.sk-hidden--visually {border: 0;clip: rect(1px 1px 1px 1px);clip: rect(1px, 1px, 1px, 1px);height: 1px;margin: -1px;overflow: hidden;padding: 0;position: absolute;width: 1px;}#sk-container-id-5 div.sk-estimator {font-family: monospace;background-color: #f0f8ff;border: 1px dotted black;border-radius: 0.25em;box-sizing: border-box;margin-bottom: 0.5em;}#sk-container-id-5 div.sk-estimator:hover {background-color: #d4ebff;}#sk-container-id-5 div.sk-parallel-item::after {content: \"\";width: 100%;border-bottom: 1px solid gray;flex-grow: 1;}#sk-container-id-5 div.sk-label:hover label.sk-toggleable__label {background-color: #d4ebff;}#sk-container-id-5 div.sk-serial::before {content: \"\";position: absolute;border-left: 1px solid gray;box-sizing: border-box;top: 0;bottom: 0;left: 50%;z-index: 0;}#sk-container-id-5 div.sk-serial {display: flex;flex-direction: column;align-items: center;background-color: white;padding-right: 0.2em;padding-left: 0.2em;position: relative;}#sk-container-id-5 div.sk-item {position: relative;z-index: 1;}#sk-container-id-5 div.sk-parallel {display: flex;align-items: stretch;justify-content: center;background-color: white;position: relative;}#sk-container-id-5 div.sk-item::before, #sk-container-id-5 div.sk-parallel-item::before {content: \"\";position: absolute;border-left: 1px solid gray;box-sizing: border-box;top: 0;bottom: 0;left: 50%;z-index: -1;}#sk-container-id-5 div.sk-parallel-item {display: flex;flex-direction: column;z-index: 1;position: relative;background-color: white;}#sk-container-id-5 div.sk-parallel-item:first-child::after {align-self: flex-end;width: 50%;}#sk-container-id-5 div.sk-parallel-item:last-child::after {align-self: flex-start;width: 50%;}#sk-container-id-5 div.sk-parallel-item:only-child::after {width: 0;}#sk-container-id-5 div.sk-dashed-wrapped {border: 1px dashed gray;margin: 0 0.4em 0.5em 0.4em;box-sizing: border-box;padding-bottom: 0.4em;background-color: white;}#sk-container-id-5 div.sk-label label {font-family: monospace;font-weight: bold;display: inline-block;line-height: 1.2em;}#sk-container-id-5 div.sk-label-container {text-align: center;}#sk-container-id-5 div.sk-container {/* jupyter's `normalize.less` sets `[hidden] { display: none; }` but bootstrap.min.css set `[hidden] { display: none !important; }` so we also need the `!important` here to be able to override the default hidden behavior on the sphinx rendered scikit-learn.org. See: https://github.com/scikit-learn/scikit-learn/issues/21755 */display: inline-block !important;position: relative;}#sk-container-id-5 div.sk-text-repr-fallback {display: none;}</style><div id=\"sk-container-id-5\" class=\"sk-top-container\"><div class=\"sk-text-repr-fallback\"><pre>MLPClassifier(max_iter=800, random_state=123)</pre><b>In a Jupyter environment, please rerun this cell to show the HTML representation or trust the notebook. <br />On GitHub, the HTML representation is unable to render, please try loading this page with nbviewer.org.</b></div><div class=\"sk-container\" hidden><div class=\"sk-item\"><div class=\"sk-estimator sk-toggleable\"><input class=\"sk-toggleable__control sk-hidden--visually\" id=\"sk-estimator-id-5\" type=\"checkbox\" checked><label for=\"sk-estimator-id-5\" class=\"sk-toggleable__label sk-toggleable__label-arrow\">MLPClassifier</label><div class=\"sk-toggleable__content\"><pre>MLPClassifier(max_iter=800, random_state=123)</pre></div></div></div></div></div>"
      ],
      "text/plain": [
       "MLPClassifier(max_iter=800, random_state=123)"
      ]
     },
     "execution_count": 30,
     "metadata": {},
     "output_type": "execute_result"
    },
    {
     "name": "stdout",
     "output_type": "stream",
     "text": [
      "['versicolor' 'virginica' 'virginica' 'versicolor' 'setosa' 'virginica'\n",
      " 'versicolor' 'setosa' 'setosa' 'versicolor']\n",
      "72     versicolor\n",
      "112     virginica\n",
      "132     virginica\n",
      "88     versicolor\n",
      "37         setosa\n",
      "138     virginica\n",
      "87     versicolor\n",
      "42         setosa\n",
      "8          setosa\n",
      "90     versicolor\n",
      "Name: species, dtype: object\n",
      "Test Accuracy : 0.967\n",
      "Training Accuracy : 0.983\n"
     ]
    }
   ],
   "source": [
    "from sklearn.neural_network import MLPClassifier\n",
    "\n",
    "mlp_classifier = MLPClassifier(max_iter = 800, random_state=123)\n",
    "mlp_classifier.fit(X_train, Y_train)\n",
    "\n",
    "Y_preds_iris = mlp_classifier.predict(X_test)\n",
    "\n",
    "print(Y_preds_iris[:10])\n",
    "print(Y_test[:10])\n",
    "print('Test Accuracy : %.3f'%mlp_classifier.score(X_test, Y_test))\n",
    "print('Training Accuracy : %.3f'%mlp_classifier.score(X_train, Y_train))"
   ]
  },
  {
   "cell_type": "code",
   "execution_count": 31,
   "id": "1142b5a9",
   "metadata": {
    "scrolled": true
   },
   "outputs": [
    {
     "data": {
      "image/png": "[encoded data removed]",
      "text/plain": [
       "<Figure size 600x600 with 2 Axes>"
      ]
     },
     "metadata": {},
     "output_type": "display_data"
    }
   ],
   "source": [
    "from sklearn.metrics import confusion_matrix\n",
    "\n",
    "def plot_confusion_matrix(Y_test_iris, Y_preds_iris):\n",
    "  conf_mat_iris = confusion_matrix(Y_test_iris, Y_preds_iris)\n",
    "  fig = plt.figure(figsize = (6,6))\n",
    "  plt.matshow(conf_mat_iris, cmap=plt.cm.Blues, fignum=1)\n",
    "  plt.yticks(range(3), range(3))\n",
    "  plt.xticks(range(3), range(3))\n",
    "  plt.colorbar()\n",
    "  for i in range(3):\n",
    "    for j in range(3):\n",
    "      plt.text(i-0.2,j+0.1, str(conf_mat_iris[j, i]), color = 'tab:red')\n",
    "plot_confusion_matrix(Y_test, mlp_classifier.predict(X_test))"
   ]
  },
  {
   "cell_type": "code",
   "execution_count": 32,
   "id": "469c2e78",
   "metadata": {},
   "outputs": [
    {
     "name": "stdout",
     "output_type": "stream",
     "text": [
      "Loss :  0.06884106415956573\n",
      "Number of coefs :  2\n",
      "Number of Intercepts :  2\n",
      "Number of Iterations for Which Estimator Ran :  630\n",
      "Name of Output Layer Activation Function :  softmax\n"
     ]
    }
   ],
   "source": [
    "#loss_ — возвращает убыток после завершения процесса обучения.\n",
    "print(\"Loss : \", mlp_classifier.loss_)\n",
    "#coefs_ — возвращает массив длины n_layers-1, где каждый элемент представляет веса, связанные с уровнем i.\n",
    "print(\"Number of coefs : \", len(mlp_classifier.coefs_))\n",
    "#intercepts_ — возвращает массив длины n_layers-1, где каждый элемент представляет собой перехват, связанный с персептронами слоя i.\n",
    "print(\"Number of Intercepts : \", len(mlp_classifier.intercepts_))\n",
    "#n_iter_ — количество итераций, для которых выполнялась оценка.\n",
    "print(\"Number of Iterations for Which Estimator Ran : \", mlp_classifier.n_iter_)\n",
    "#out_activation_ — возвращает имя функции активации выходного слоя.\n",
    "print(\"Name of Output Layer Activation Function : \", mlp_classifier.out_activation_)"
   ]
  },
  {
   "cell_type": "code",
   "execution_count": 33,
   "id": "d18c4490",
   "metadata": {
    "scrolled": false
   },
   "outputs": [
    {
     "name": "stdout",
     "output_type": "stream",
     "text": [
      "Dataset Sizes :  (30, 1) (30,)\n",
      "Train/Test Sizes :  (24, 1) (6, 1) (24,) (6,)\n"
     ]
    },
    {
     "data": {
      "text/html": [
       "<style>#sk-container-id-6 {color: black;background-color: white;}#sk-container-id-6 pre{padding: 0;}#sk-container-id-6 div.sk-toggleable {background-color: white;}#sk-container-id-6 label.sk-toggleable__label {cursor: pointer;display: block;width: 100%;margin-bottom: 0;padding: 0.3em;box-sizing: border-box;text-align: center;}#sk-container-id-6 label.sk-toggleable__label-arrow:before {content: \"▸\";float: left;margin-right: 0.25em;color: #696969;}#sk-container-id-6 label.sk-toggleable__label-arrow:hover:before {color: black;}#sk-container-id-6 div.sk-estimator:hover label.sk-toggleable__label-arrow:before {color: black;}#sk-container-id-6 div.sk-toggleable__content {max-height: 0;max-width: 0;overflow: hidden;text-align: left;background-color: #f0f8ff;}#sk-container-id-6 div.sk-toggleable__content pre {margin: 0.2em;color: black;border-radius: 0.25em;background-color: #f0f8ff;}#sk-container-id-6 input.sk-toggleable__control:checked~div.sk-toggleable__content {max-height: 200px;max-width: 100%;overflow: auto;}#sk-container-id-6 input.sk-toggleable__control:checked~label.sk-toggleable__label-arrow:before {content: \"▾\";}#sk-container-id-6 div.sk-estimator input.sk-toggleable__control:checked~label.sk-toggleable__label {background-color: #d4ebff;}#sk-container-id-6 div.sk-label input.sk-toggleable__control:checked~label.sk-toggleable__label {background-color: #d4ebff;}#sk-container-id-6 input.sk-hidden--visually {border: 0;clip: rect(1px 1px 1px 1px);clip: rect(1px, 1px, 1px, 1px);height: 1px;margin: -1px;overflow: hidden;padding: 0;position: absolute;width: 1px;}#sk-container-id-6 div.sk-estimator {font-family: monospace;background-color: #f0f8ff;border: 1px dotted black;border-radius: 0.25em;box-sizing: border-box;margin-bottom: 0.5em;}#sk-container-id-6 div.sk-estimator:hover {background-color: #d4ebff;}#sk-container-id-6 div.sk-parallel-item::after {content: \"\";width: 100%;border-bottom: 1px solid gray;flex-grow: 1;}#sk-container-id-6 div.sk-label:hover label.sk-toggleable__label {background-color: #d4ebff;}#sk-container-id-6 div.sk-serial::before {content: \"\";position: absolute;border-left: 1px solid gray;box-sizing: border-box;top: 0;bottom: 0;left: 50%;z-index: 0;}#sk-container-id-6 div.sk-serial {display: flex;flex-direction: column;align-items: center;background-color: white;padding-right: 0.2em;padding-left: 0.2em;position: relative;}#sk-container-id-6 div.sk-item {position: relative;z-index: 1;}#sk-container-id-6 div.sk-parallel {display: flex;align-items: stretch;justify-content: center;background-color: white;position: relative;}#sk-container-id-6 div.sk-item::before, #sk-container-id-6 div.sk-parallel-item::before {content: \"\";position: absolute;border-left: 1px solid gray;box-sizing: border-box;top: 0;bottom: 0;left: 50%;z-index: -1;}#sk-container-id-6 div.sk-parallel-item {display: flex;flex-direction: column;z-index: 1;position: relative;background-color: white;}#sk-container-id-6 div.sk-parallel-item:first-child::after {align-self: flex-end;width: 50%;}#sk-container-id-6 div.sk-parallel-item:last-child::after {align-self: flex-start;width: 50%;}#sk-container-id-6 div.sk-parallel-item:only-child::after {width: 0;}#sk-container-id-6 div.sk-dashed-wrapped {border: 1px dashed gray;margin: 0 0.4em 0.5em 0.4em;box-sizing: border-box;padding-bottom: 0.4em;background-color: white;}#sk-container-id-6 div.sk-label label {font-family: monospace;font-weight: bold;display: inline-block;line-height: 1.2em;}#sk-container-id-6 div.sk-label-container {text-align: center;}#sk-container-id-6 div.sk-container {/* jupyter's `normalize.less` sets `[hidden] { display: none; }` but bootstrap.min.css set `[hidden] { display: none !important; }` so we also need the `!important` here to be able to override the default hidden behavior on the sphinx rendered scikit-learn.org. See: https://github.com/scikit-learn/scikit-learn/issues/21755 */display: inline-block !important;position: relative;}#sk-container-id-6 div.sk-text-repr-fallback {display: none;}</style><div id=\"sk-container-id-6\" class=\"sk-top-container\"><div class=\"sk-text-repr-fallback\"><pre>MLPRegressor(max_iter=40000, random_state=123)</pre><b>In a Jupyter environment, please rerun this cell to show the HTML representation or trust the notebook. <br />On GitHub, the HTML representation is unable to render, please try loading this page with nbviewer.org.</b></div><div class=\"sk-container\" hidden><div class=\"sk-item\"><div class=\"sk-estimator sk-toggleable\"><input class=\"sk-toggleable__control sk-hidden--visually\" id=\"sk-estimator-id-6\" type=\"checkbox\" checked><label for=\"sk-estimator-id-6\" class=\"sk-toggleable__label sk-toggleable__label-arrow\">MLPRegressor</label><div class=\"sk-toggleable__content\"><pre>MLPRegressor(max_iter=40000, random_state=123)</pre></div></div></div></div></div>"
      ],
      "text/plain": [
       "MLPRegressor(max_iter=40000, random_state=123)"
      ]
     },
     "execution_count": 33,
     "metadata": {},
     "output_type": "execute_result"
    },
    {
     "name": "stdout",
     "output_type": "stream",
     "text": [
      "[ 55265.2045971  126554.5591937   52335.80522199 116782.59147446\n",
      "  55265.2045971  117759.05793283]\n",
      "7      54445.0\n",
      "29    121872.0\n",
      "5      56642.0\n",
      "26    116969.0\n",
      "8      64445.0\n",
      "27    112635.0\n",
      "Name: Salary, dtype: float64\n",
      "Test R^2 Score : 0.971\n",
      "Training R^2 Score : 0.948\n"
     ]
    }
   ],
   "source": [
    "# Регрессия\n",
    "url = \"https://raw.githubusercontent.com/AnnaShestova/salary-years-simple-linear-regression/master/Salary_Data.csv\"\n",
    "raw_df = pd.read_csv(url)\n",
    "\n",
    "\n",
    "data = raw_df.iloc[:, :1]\n",
    "target = raw_df.iloc[:, 1]\n",
    "\n",
    "X_salary, Y_salary = data, target\n",
    "print('Dataset Sizes : ', X_salary.shape, Y_salary.shape)\n",
    "\n",
    "from sklearn.model_selection import train_test_split\n",
    "\n",
    "X_train, X_test, Y_train, Y_test = train_test_split(X_salary, Y_salary, \n",
    "                train_size=0.80, test_size=0.20, random_state=123)\n",
    "print('Train/Test Sizes : ', X_train.shape, X_test.shape, Y_train.shape, Y_test.shape)\n",
    "\n",
    "from sklearn.neural_network import MLPRegressor\n",
    "\n",
    "mlp_regressor = MLPRegressor(max_iter = 40000, random_state=123)\n",
    "mlp_regressor.fit(X_train, Y_train)\n",
    "\n",
    "Y_preds = mlp_regressor.predict(X_test)\n",
    "\n",
    "print(Y_preds[:10])\n",
    "print(Y_test[:10])\n",
    "## Метод Score оценивает точность моделей классификации.\n",
    "print('Test R^2 Score : %.3f'%mlp_regressor.score(X_test, Y_test))\n",
    "print('Training R^2 Score : %.3f'%mlp_regressor.score(X_train, Y_train))"
   ]
  },
  {
   "cell_type": "code",
   "execution_count": 34,
   "id": "4d7405e2",
   "metadata": {},
   "outputs": [
    {
     "name": "stdout",
     "output_type": "stream",
     "text": [
      "Loss :  16873681.689960103\n",
      "Number of Coefs :  2\n"
     ]
    },
    {
     "data": {
      "text/plain": [
       "[(1, 100), (100, 1)]"
      ]
     },
     "execution_count": 34,
     "metadata": {},
     "output_type": "execute_result"
    },
    {
     "name": "stdout",
     "output_type": "stream",
     "text": [
      "Number of Iterations for Which Estimator Ran :  30344\n",
      "Name of Output Layer Activation Function :  identity\n"
     ]
    }
   ],
   "source": [
    "#loss_ — возвращает убыток после завершения процесса обучения.\n",
    "print(\"Loss : \", mlp_regressor.loss_)\n",
    "#coefs_ — возвращает массив длины n_layers-1, где каждый элемент представляет веса, связанные с уровнем i.\n",
    "print(\"Number of Coefs : \", len(mlp_regressor.coefs_))\n",
    "[weights.shape for weights in mlp_regressor.coefs_]\n",
    "#n_iter_ — количество итераций, для которых выполнялась оценка.\n",
    "print(\"Number of Iterations for Which Estimator Ran : \", mlp_regressor.n_iter_)\n",
    "#out_activation_ — возвращает имя функции активации выходного слоя.\n",
    "print(\"Name of Output Layer Activation Function : \", mlp_regressor.out_activation_)"
   ]
  }
 ],
 "metadata": {
  "kernelspec": {
   "display_name": "Python 3 (ipykernel)",
   "language": "python",
   "name": "python3"
  },
  "language_info": {
   "codemirror_mode": {
    "name": "ipython",
    "version": 3
   },
   "file_extension": ".py",
   "mimetype": "text/x-python",
   "name": "python",
   "nbconvert_exporter": "python",
   "pygments_lexer": "ipython3",
   "version": "3.11.2"
  }
 },
 "nbformat": 4,
 "nbformat_minor": 5
}
